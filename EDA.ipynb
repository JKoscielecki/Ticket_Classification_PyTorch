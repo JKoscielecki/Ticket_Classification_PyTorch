{
  "nbformat": 4,
  "nbformat_minor": 0,
  "metadata": {
    "colab": {
      "provenance": [],
      "collapsed_sections": []
    },
    "kernelspec": {
      "name": "python3",
      "display_name": "Python 3"
    },
    "language_info": {
      "name": "python"
    }
  },
  "cells": [
    {
      "cell_type": "code",
      "execution_count": 1,
      "metadata": {
        "colab": {
          "base_uri": "https://localhost:8080/"
        },
        "id": "IUsbto37mecW",
        "outputId": "41d859ef-cffb-47b7-f59a-b896df600903"
      },
      "outputs": [
        {
          "output_type": "stream",
          "name": "stderr",
          "text": [
            "[nltk_data] Downloading package punkt to /root/nltk_data...\n",
            "[nltk_data]   Unzipping tokenizers/punkt.zip.\n",
            "[nltk_data] Downloading package wordnet to /root/nltk_data...\n",
            "[nltk_data] Downloading package stopwords to /root/nltk_data...\n",
            "[nltk_data]   Unzipping corpora/stopwords.zip.\n",
            "[nltk_data] Downloading package omw-1.4 to /root/nltk_data...\n",
            "[nltk_data] Downloading package averaged_perceptron_tagger to\n",
            "[nltk_data]     /root/nltk_data...\n",
            "[nltk_data]   Unzipping taggers/averaged_perceptron_tagger.zip.\n"
          ]
        },
        {
          "output_type": "stream",
          "name": "stdout",
          "text": [
            "Mounted at /content/gdrive\n"
          ]
        }
      ],
      "source": [
        "import pandas as pd\n",
        "import numpy as np \n",
        "import glob\n",
        "import re\n",
        "import nltk\n",
        "from nltk.corpus import wordnet\n",
        "from nltk.tokenize import word_tokenize\n",
        "from nltk.corpus import stopwords\n",
        "nltk.download('punkt')\n",
        "nltk.download('wordnet')\n",
        "nltk.download('stopwords')\n",
        "nltk.download('omw-1.4')\n",
        "nltk.download('averaged_perceptron_tagger')\n",
        "from nltk.stem.wordnet import WordNetLemmatizer\n",
        "pd.options.display.max_columns = None\n",
        "pd.options.display.max_rows = None\n",
        "from sklearn.model_selection import train_test_split\n",
        "\n",
        "from google.colab import drive\n",
        "drive.mount('/content/gdrive')"
      ]
    },
    {
      "cell_type": "code",
      "source": [
        "df = pd.read_csv('/content/gdrive/My Drive/tickets/all_tickets.csv')\n",
        "df.head()"
      ],
      "metadata": {
        "id": "4hc2gMWtcpZ8"
      },
      "execution_count": null,
      "outputs": []
    },
    {
      "cell_type": "code",
      "source": [
        "df.shape"
      ],
      "metadata": {
        "colab": {
          "base_uri": "https://localhost:8080/"
        },
        "id": "Q1vV84EtqJdq",
        "outputId": "075de2ff-8dda-4aa0-ec53-b32a5d0aebb1"
      },
      "execution_count": null,
      "outputs": [
        {
          "output_type": "execute_result",
          "data": {
            "text/plain": [
              "(48549, 9)"
            ]
          },
          "metadata": {},
          "execution_count": 41
        }
      ]
    },
    {
      "cell_type": "code",
      "source": [
        "df['urgency'].value_counts()"
      ],
      "metadata": {
        "colab": {
          "base_uri": "https://localhost:8080/"
        },
        "id": "NmvcpilHp65J",
        "outputId": "45a25a8e-7752-444b-f787-b21158d6fe69"
      },
      "execution_count": null,
      "outputs": [
        {
          "output_type": "execute_result",
          "data": {
            "text/plain": [
              "3    34621\n",
              "1     6748\n",
              "2     5528\n",
              "0     1652\n",
              "Name: urgency, dtype: int64"
            ]
          },
          "metadata": {},
          "execution_count": 42
        }
      ]
    },
    {
      "cell_type": "code",
      "source": [
        "df['impact'].value_counts()"
      ],
      "metadata": {
        "colab": {
          "base_uri": "https://localhost:8080/"
        },
        "id": "BDdsMCNLp3A7",
        "outputId": "51248a21-f07e-466c-dd03-44706ab589e6"
      },
      "execution_count": null,
      "outputs": [
        {
          "output_type": "execute_result",
          "data": {
            "text/plain": [
              "4    34621\n",
              "3    13184\n",
              "0      471\n",
              "2      228\n",
              "1       45\n",
              "Name: impact, dtype: int64"
            ]
          },
          "metadata": {},
          "execution_count": 43
        }
      ]
    },
    {
      "cell_type": "code",
      "source": [
        "df['ticket_type'].value_counts()"
      ],
      "metadata": {
        "colab": {
          "base_uri": "https://localhost:8080/"
        },
        "id": "I-Exy16QnwHz",
        "outputId": "1a5ebac0-7800-4ad7-ec29-e82d7b41d270"
      },
      "execution_count": null,
      "outputs": [
        {
          "output_type": "execute_result",
          "data": {
            "text/plain": [
              "1    34621\n",
              "0    13928\n",
              "Name: ticket_type, dtype: int64"
            ]
          },
          "metadata": {},
          "execution_count": 44
        }
      ]
    },
    {
      "cell_type": "code",
      "source": [
        "df['category'].value_counts()"
      ],
      "metadata": {
        "colab": {
          "base_uri": "https://localhost:8080/"
        },
        "id": "_2Y0xxSjpnwj",
        "outputId": "7c206f33-b46c-4d62-f300-fdc4ac39d8db"
      },
      "execution_count": null,
      "outputs": [
        {
          "output_type": "execute_result",
          "data": {
            "text/plain": [
              "4     34061\n",
              "5      9634\n",
              "6      2628\n",
              "7       921\n",
              "11      612\n",
              "8       239\n",
              "9       191\n",
              "3       137\n",
              "1        72\n",
              "12       45\n",
              "0         4\n",
              "2         3\n",
              "10        2\n",
              "Name: category, dtype: int64"
            ]
          },
          "metadata": {},
          "execution_count": 45
        }
      ]
    },
    {
      "cell_type": "code",
      "source": [
        "df['sub_category1'].value_counts()"
      ],
      "metadata": {
        "colab": {
          "base_uri": "https://localhost:8080/"
        },
        "id": "icfa2pt_ptXX",
        "outputId": "773910c2-3d08-4091-94a3-eca7b57ca3d3"
      },
      "execution_count": null,
      "outputs": [
        {
          "output_type": "execute_result",
          "data": {
            "text/plain": [
              "2     9857\n",
              "3     8324\n",
              "1     7857\n",
              "13    6487\n",
              "21    5710\n",
              "51    2402\n",
              "22    1475\n",
              "15    1226\n",
              "9     1114\n",
              "12     624\n",
              "14     620\n",
              "32     559\n",
              "39     354\n",
              "30     222\n",
              "54     217\n",
              "50     204\n",
              "36     177\n",
              "45     176\n",
              "56     147\n",
              "10     114\n",
              "35      83\n",
              "27      79\n",
              "28      60\n",
              "49      57\n",
              "41      54\n",
              "37      48\n",
              "16      42\n",
              "58      34\n",
              "17      27\n",
              "53      26\n",
              "57      25\n",
              "8       15\n",
              "55      13\n",
              "24      12\n",
              "34      11\n",
              "33      10\n",
              "19       8\n",
              "44       8\n",
              "43       7\n",
              "4        7\n",
              "18       6\n",
              "26       6\n",
              "20       6\n",
              "38       5\n",
              "52       4\n",
              "0        4\n",
              "40       4\n",
              "6        3\n",
              "31       3\n",
              "42       3\n",
              "46       2\n",
              "23       2\n",
              "48       2\n",
              "7        2\n",
              "11       1\n",
              "29       1\n",
              "25       1\n",
              "5        1\n",
              "47       1\n",
              "Name: sub_category1, dtype: int64"
            ]
          },
          "metadata": {},
          "execution_count": 46
        }
      ]
    },
    {
      "cell_type": "code",
      "source": [
        "df['sub_category2'].value_counts()"
      ],
      "metadata": {
        "colab": {
          "base_uri": "https://localhost:8080/"
        },
        "id": "ifHyHdiiqDKL",
        "outputId": "eadb281f-32c7-4e0c-d796-8268d7752031"
      },
      "execution_count": null,
      "outputs": [
        {
          "output_type": "execute_result",
          "data": {
            "text/plain": [
              "7      18197\n",
              "21      6581\n",
              "41      3232\n",
              "0       2705\n",
              "88      2243\n",
              "23      1733\n",
              "94      1626\n",
              "1       1151\n",
              "105     1145\n",
              "87      1012\n",
              "77       975\n",
              "11       935\n",
              "60       709\n",
              "73       700\n",
              "76       671\n",
              "78       604\n",
              "111      593\n",
              "51       497\n",
              "50       424\n",
              "82       409\n",
              "3        307\n",
              "74       212\n",
              "71       177\n",
              "95       149\n",
              "53       118\n",
              "4         99\n",
              "98        99\n",
              "29        96\n",
              "63        92\n",
              "86        86\n",
              "62        85\n",
              "22        83\n",
              "112       69\n",
              "30        69\n",
              "55        62\n",
              "65        45\n",
              "91        42\n",
              "54        40\n",
              "113       39\n",
              "66        35\n",
              "12        32\n",
              "16        30\n",
              "110       27\n",
              "90        25\n",
              "32        24\n",
              "106       20\n",
              "46        14\n",
              "59        14\n",
              "80        14\n",
              "2         13\n",
              "20        12\n",
              "43        12\n",
              "17        11\n",
              "14        10\n",
              "69        10\n",
              "6          8\n",
              "57         7\n",
              "101        7\n",
              "93         6\n",
              "89         5\n",
              "100        5\n",
              "52         5\n",
              "96         5\n",
              "19         4\n",
              "15         4\n",
              "61         4\n",
              "84         4\n",
              "108        3\n",
              "45         3\n",
              "44         3\n",
              "67         3\n",
              "81         2\n",
              "99         2\n",
              "97         2\n",
              "38         2\n",
              "35         2\n",
              "83         2\n",
              "27         2\n",
              "40         2\n",
              "70         2\n",
              "92         2\n",
              "75         2\n",
              "8          2\n",
              "36         2\n",
              "114        2\n",
              "10         2\n",
              "85         1\n",
              "34         1\n",
              "18         1\n",
              "58         1\n",
              "49         1\n",
              "25         1\n",
              "72         1\n",
              "64         1\n",
              "103        1\n",
              "47         1\n",
              "5          1\n",
              "48         1\n",
              "39         1\n",
              "109        1\n",
              "9          1\n",
              "102        1\n",
              "33         1\n",
              "13         1\n",
              "24         1\n",
              "26         1\n",
              "104        1\n",
              "107        1\n",
              "68         1\n",
              "79         1\n",
              "42         1\n",
              "31         1\n",
              "37         1\n",
              "28         1\n",
              "56         1\n",
              "Name: sub_category2, dtype: int64"
            ]
          },
          "metadata": {},
          "execution_count": 47
        }
      ]
    },
    {
      "cell_type": "code",
      "source": [
        "df.head()"
      ],
      "metadata": {
        "colab": {
          "base_uri": "https://localhost:8080/",
          "height": 206
        },
        "id": "Fwas5NxVqN5I",
        "outputId": "21167cf8-0aab-439d-f2b3-0223675b2191"
      },
      "execution_count": null,
      "outputs": [
        {
          "output_type": "execute_result",
          "data": {
            "text/plain": [
              "                                   title  \\\n",
              "0                                    NaN   \n",
              "1                   connection with icon   \n",
              "2                   work experience user   \n",
              "3                 requesting for meeting   \n",
              "4  reset passwords for external accounts   \n",
              "\n",
              "                                                body  ticket_type  category  \\\n",
              "0  hi since recruiter lead permission approve req...            1         4   \n",
              "1  icon dear please setup icon per icon engineers...            1         6   \n",
              "2  work experience user hi work experience studen...            1         5   \n",
              "3  requesting meeting hi please help follow equip...            1         5   \n",
              "4  re expire days hi ask help update passwords co...            1         4   \n",
              "\n",
              "   sub_category1  sub_category2  business_service  urgency  impact  \n",
              "0              2             21                71        3       4  \n",
              "1             22              7                26        3       4  \n",
              "2             13              7                32        3       4  \n",
              "3             13              7                32        3       4  \n",
              "4              2             76                 4        3       4  "
            ],
            "text/html": [
              "\n",
              "  <div id=\"df-c4f0694f-7bad-469f-b676-c2e6cb1d3831\">\n",
              "    <div class=\"colab-df-container\">\n",
              "      <div>\n",
              "<style scoped>\n",
              "    .dataframe tbody tr th:only-of-type {\n",
              "        vertical-align: middle;\n",
              "    }\n",
              "\n",
              "    .dataframe tbody tr th {\n",
              "        vertical-align: top;\n",
              "    }\n",
              "\n",
              "    .dataframe thead th {\n",
              "        text-align: right;\n",
              "    }\n",
              "</style>\n",
              "<table border=\"1\" class=\"dataframe\">\n",
              "  <thead>\n",
              "    <tr style=\"text-align: right;\">\n",
              "      <th></th>\n",
              "      <th>title</th>\n",
              "      <th>body</th>\n",
              "      <th>ticket_type</th>\n",
              "      <th>category</th>\n",
              "      <th>sub_category1</th>\n",
              "      <th>sub_category2</th>\n",
              "      <th>business_service</th>\n",
              "      <th>urgency</th>\n",
              "      <th>impact</th>\n",
              "    </tr>\n",
              "  </thead>\n",
              "  <tbody>\n",
              "    <tr>\n",
              "      <th>0</th>\n",
              "      <td>NaN</td>\n",
              "      <td>hi since recruiter lead permission approve req...</td>\n",
              "      <td>1</td>\n",
              "      <td>4</td>\n",
              "      <td>2</td>\n",
              "      <td>21</td>\n",
              "      <td>71</td>\n",
              "      <td>3</td>\n",
              "      <td>4</td>\n",
              "    </tr>\n",
              "    <tr>\n",
              "      <th>1</th>\n",
              "      <td>connection with icon</td>\n",
              "      <td>icon dear please setup icon per icon engineers...</td>\n",
              "      <td>1</td>\n",
              "      <td>6</td>\n",
              "      <td>22</td>\n",
              "      <td>7</td>\n",
              "      <td>26</td>\n",
              "      <td>3</td>\n",
              "      <td>4</td>\n",
              "    </tr>\n",
              "    <tr>\n",
              "      <th>2</th>\n",
              "      <td>work experience user</td>\n",
              "      <td>work experience user hi work experience studen...</td>\n",
              "      <td>1</td>\n",
              "      <td>5</td>\n",
              "      <td>13</td>\n",
              "      <td>7</td>\n",
              "      <td>32</td>\n",
              "      <td>3</td>\n",
              "      <td>4</td>\n",
              "    </tr>\n",
              "    <tr>\n",
              "      <th>3</th>\n",
              "      <td>requesting for meeting</td>\n",
              "      <td>requesting meeting hi please help follow equip...</td>\n",
              "      <td>1</td>\n",
              "      <td>5</td>\n",
              "      <td>13</td>\n",
              "      <td>7</td>\n",
              "      <td>32</td>\n",
              "      <td>3</td>\n",
              "      <td>4</td>\n",
              "    </tr>\n",
              "    <tr>\n",
              "      <th>4</th>\n",
              "      <td>reset passwords for external accounts</td>\n",
              "      <td>re expire days hi ask help update passwords co...</td>\n",
              "      <td>1</td>\n",
              "      <td>4</td>\n",
              "      <td>2</td>\n",
              "      <td>76</td>\n",
              "      <td>4</td>\n",
              "      <td>3</td>\n",
              "      <td>4</td>\n",
              "    </tr>\n",
              "  </tbody>\n",
              "</table>\n",
              "</div>\n",
              "      <button class=\"colab-df-convert\" onclick=\"convertToInteractive('df-c4f0694f-7bad-469f-b676-c2e6cb1d3831')\"\n",
              "              title=\"Convert this dataframe to an interactive table.\"\n",
              "              style=\"display:none;\">\n",
              "        \n",
              "  <svg xmlns=\"http://www.w3.org/2000/svg\" height=\"24px\"viewBox=\"0 0 24 24\"\n",
              "       width=\"24px\">\n",
              "    <path d=\"M0 0h24v24H0V0z\" fill=\"none\"/>\n",
              "    <path d=\"M18.56 5.44l.94 2.06.94-2.06 2.06-.94-2.06-.94-.94-2.06-.94 2.06-2.06.94zm-11 1L8.5 8.5l.94-2.06 2.06-.94-2.06-.94L8.5 2.5l-.94 2.06-2.06.94zm10 10l.94 2.06.94-2.06 2.06-.94-2.06-.94-.94-2.06-.94 2.06-2.06.94z\"/><path d=\"M17.41 7.96l-1.37-1.37c-.4-.4-.92-.59-1.43-.59-.52 0-1.04.2-1.43.59L10.3 9.45l-7.72 7.72c-.78.78-.78 2.05 0 2.83L4 21.41c.39.39.9.59 1.41.59.51 0 1.02-.2 1.41-.59l7.78-7.78 2.81-2.81c.8-.78.8-2.07 0-2.86zM5.41 20L4 18.59l7.72-7.72 1.47 1.35L5.41 20z\"/>\n",
              "  </svg>\n",
              "      </button>\n",
              "      \n",
              "  <style>\n",
              "    .colab-df-container {\n",
              "      display:flex;\n",
              "      flex-wrap:wrap;\n",
              "      gap: 12px;\n",
              "    }\n",
              "\n",
              "    .colab-df-convert {\n",
              "      background-color: #E8F0FE;\n",
              "      border: none;\n",
              "      border-radius: 50%;\n",
              "      cursor: pointer;\n",
              "      display: none;\n",
              "      fill: #1967D2;\n",
              "      height: 32px;\n",
              "      padding: 0 0 0 0;\n",
              "      width: 32px;\n",
              "    }\n",
              "\n",
              "    .colab-df-convert:hover {\n",
              "      background-color: #E2EBFA;\n",
              "      box-shadow: 0px 1px 2px rgba(60, 64, 67, 0.3), 0px 1px 3px 1px rgba(60, 64, 67, 0.15);\n",
              "      fill: #174EA6;\n",
              "    }\n",
              "\n",
              "    [theme=dark] .colab-df-convert {\n",
              "      background-color: #3B4455;\n",
              "      fill: #D2E3FC;\n",
              "    }\n",
              "\n",
              "    [theme=dark] .colab-df-convert:hover {\n",
              "      background-color: #434B5C;\n",
              "      box-shadow: 0px 1px 3px 1px rgba(0, 0, 0, 0.15);\n",
              "      filter: drop-shadow(0px 1px 2px rgba(0, 0, 0, 0.3));\n",
              "      fill: #FFFFFF;\n",
              "    }\n",
              "  </style>\n",
              "\n",
              "      <script>\n",
              "        const buttonEl =\n",
              "          document.querySelector('#df-c4f0694f-7bad-469f-b676-c2e6cb1d3831 button.colab-df-convert');\n",
              "        buttonEl.style.display =\n",
              "          google.colab.kernel.accessAllowed ? 'block' : 'none';\n",
              "\n",
              "        async function convertToInteractive(key) {\n",
              "          const element = document.querySelector('#df-c4f0694f-7bad-469f-b676-c2e6cb1d3831');\n",
              "          const dataTable =\n",
              "            await google.colab.kernel.invokeFunction('convertToInteractive',\n",
              "                                                     [key], {});\n",
              "          if (!dataTable) return;\n",
              "\n",
              "          const docLinkHtml = 'Like what you see? Visit the ' +\n",
              "            '<a target=\"_blank\" href=https://colab.research.google.com/notebooks/data_table.ipynb>data table notebook</a>'\n",
              "            + ' to learn more about interactive tables.';\n",
              "          element.innerHTML = '';\n",
              "          dataTable['output_type'] = 'display_data';\n",
              "          await google.colab.output.renderOutput(dataTable, element);\n",
              "          const docLink = document.createElement('div');\n",
              "          docLink.innerHTML = docLinkHtml;\n",
              "          element.appendChild(docLink);\n",
              "        }\n",
              "      </script>\n",
              "    </div>\n",
              "  </div>\n",
              "  "
            ]
          },
          "metadata": {},
          "execution_count": 48
        }
      ]
    },
    {
      "cell_type": "code",
      "source": [
        "for i in range(20):\n",
        "  print(df['body'].iloc[i])"
      ],
      "metadata": {
        "colab": {
          "base_uri": "https://localhost:8080/"
        },
        "id": "28bZ0W8IqPoO",
        "outputId": "252e4fb5-2f2e-4616-c5cc-1c62b11a53de"
      },
      "execution_count": null,
      "outputs": [
        {
          "output_type": "stream",
          "name": "stdout",
          "text": [
            "hi since recruiter lead permission approve requisitions makes please make thanks recruiter\n",
            "icon dear please setup icon per icon engineers please let other details needed thanks lead\n",
            "work experience user hi work experience student coming next his name much appreciate him duration thank\n",
            "requesting meeting hi please help follow equipments cable pc cord plug\n",
            "re expire days hi ask help update passwords colleagues thank pm expire days importance high hi received about expiration please kindly help prolongation best regards pm expire days importance high dear expire days order change please follow steps prerequisites disable device credentials close active connected by cable machine note also follow steps detailed press ctrl alt delete same pops change item enter format enter enter newly chosen then re enter again submit displaying has changed os machine browse enter format enter gear icon top tight browser window enter enter newly chosen then re enter again save connected note complete resources granted once connected by cable browse tick want change after logging enter format enter log enter enter newly chosen then re enter again change clients suppliers about expire please touch person then communicate back encounter issues hesitate by accessing yours\n",
            "verification warning hi has got attached please addresses best regards monitoring analyst verification warning\n",
            "please dear looks blacklisted receiving mails anymore sample attached thanks kind regards senior engineer\n",
            "prod tunneling va la tunneling la host si la si host host cards port name bytes bytes seq bytes seq statistics packets transmitted received packet loss avg bytes bytes seq bytes seq tuesday pm acre re tunneling si pm acre re tunneling extended object host extended host extended object host range extended host range administrator re sector pm acre re tunneling va la si la tunneling design lead ext friday pm re tunneling va extended object host extended host administrator re sector pm tunneling va la tunneling users pinging bytes bytes bytes bytes bytes design lead ext con care pot partial strict si pot ale care va la contains proprietary information which legally privileged unauthorized dissemination prohibited intended recipient views addressing transmission error has misdirected please notify author by replying intended recipient must disclose distribute copy print rely\n",
            "dear modules report report cost thank much regards\n",
            "passwords client dear please passwords thank\n",
            "please action reports dear way help close these maternity leave complete submit her left he technically left he client work after rd submit after delete period days two public holidays possible add thanks please action reports dear part established processes each required submit his weekly basis each friday past must submitted receiving because reports haven followed process please help cascade accordingly gets possible breakdown reports please note refers has left maternity other absence leave please update person record otherwise please person directly submit country date total days\n",
            "connected rebuild hi please provide order debug sip trunk gateway wireless wired connected regards\n",
            "device recovery report printer duplex unit printer details detected tray tray copier details detected tray scanner ready details model name device name comment host name printer name print name file name printer name zone name name computer name share name device printer printer notified\n",
            "hello please fill date\n",
            "visual studio license hello developer visual studio license thank best regards developer\n",
            "hello movement has left available device please kind device denmark copenhagen denmark please source quotation shipping by lead\n",
            "secondary hi please provide secondary ledger users please provide existing roles assigned these users prod test please create thank kind regards analyst\n",
            "copy hi receive copy behavior expect receive myself thanks front developer\n",
            "purchase po dear purchased received items lite updated include device under user name link please add allocation device thanks please log retrieve old device after receive item please take consideration mandatory receipts section order receive item ordered how video link please make return old device back accessories left receive receive old device take off user name kind regards administrator\n",
            "invitation strategy workshop february manchester workshop forward colleague results campaign workshop reminder content workshop reminder ca cs dad ca trouble viewing view results campaign workshop reminder content workshop reminder cs dad ca assets images azure cs dad ca azure join cs dad ca manchester discuss journey unleash benefits powered by azure workshop control optimise strategy tickets cs dad ca february discussing best working opportunities digital give tools how embrace perfect environment wednesday february where sir busby way manchester further information found control optimise strategy tickets cs dad ca please note places join workshop manchester february control optimise strategy tickets cs dad ca make february workshop interest march where street campus birmingham join workshop birmingham control optimise strategy tickets cs dad ca assets images footer cs dad ca action campaign workshop reminder content workshop reminder ca cs dad ca road bb sr\n"
          ]
        }
      ]
    },
    {
      "cell_type": "code",
      "source": [
        "# Task is very easy because text is already cleaned\n",
        "# we can only perform stemming or lemmatization\n",
        "# but firstly let's check if all rows are in english"
      ],
      "metadata": {
        "id": "A7ahThv4qqWu"
      },
      "execution_count": null,
      "outputs": []
    },
    {
      "cell_type": "code",
      "source": [
        "!pip install langdetect\n",
        "from langdetect import detect\n",
        "df['lang'] = df['body'].apply(lambda x: detect(str(x)))\n",
        "df['lang'].value_counts()"
      ],
      "metadata": {
        "colab": {
          "base_uri": "https://localhost:8080/"
        },
        "id": "E85E1ZJMrR58",
        "outputId": "652f40e9-837f-4b7c-85cb-89b215cd531d"
      },
      "execution_count": null,
      "outputs": [
        {
          "output_type": "stream",
          "name": "stdout",
          "text": [
            "Looking in indexes: https://pypi.org/simple, https://us-python.pkg.dev/colab-wheels/public/simple/\n",
            "Requirement already satisfied: langdetect in /usr/local/lib/python3.7/dist-packages (1.0.9)\n",
            "Requirement already satisfied: six in /usr/local/lib/python3.7/dist-packages (from langdetect) (1.15.0)\n"
          ]
        },
        {
          "output_type": "execute_result",
          "data": {
            "text/plain": [
              "en    46716\n",
              "ca      410\n",
              "it      359\n",
              "fr      282\n",
              "ro      158\n",
              "es      126\n",
              "da       88\n",
              "nl       75\n",
              "sv       68\n",
              "no       59\n",
              "af       49\n",
              "cy       29\n",
              "fi       19\n",
              "pt       16\n",
              "et       15\n",
              "tl       15\n",
              "id       10\n",
              "pl        8\n",
              "sl        7\n",
              "sk        6\n",
              "sq        6\n",
              "de        6\n",
              "lv        5\n",
              "cs        5\n",
              "hr        4\n",
              "so        3\n",
              "vi        2\n",
              "sw        2\n",
              "lt        1\n",
              "Name: lang, dtype: int64"
            ]
          },
          "metadata": {},
          "execution_count": 51
        }
      ]
    },
    {
      "cell_type": "code",
      "source": [
        "df=frame"
      ],
      "metadata": {
        "id": "_S_aC0WB4UVX"
      },
      "execution_count": null,
      "outputs": []
    },
    {
      "cell_type": "code",
      "source": [
        "#Let's be professional and check also title:\n",
        "for index, row in df.iterrows():\n",
        "  try:\n",
        "    df['title_lang']=detect(str(row['title']))\n",
        "  except:\n",
        "    continue\n"
      ],
      "metadata": {
        "id": "FOd5SvmLrfvs"
      },
      "execution_count": null,
      "outputs": []
    },
    {
      "cell_type": "code",
      "source": [
        "df['title_lang'].value_counts()"
      ],
      "metadata": {
        "colab": {
          "base_uri": "https://localhost:8080/"
        },
        "id": "iuTssu92r2--",
        "outputId": "c404c59d-98f6-4e9d-a6d0-a80ea19dbaae"
      },
      "execution_count": null,
      "outputs": [
        {
          "output_type": "execute_result",
          "data": {
            "text/plain": [
              "en    47837\n",
              "Name: title_lang, dtype: int64"
            ]
          },
          "metadata": {},
          "execution_count": 80
        }
      ]
    },
    {
      "cell_type": "code",
      "source": [
        "#we could translate texts in foreign languages into English, but as they constitute a definite minority, we will simply remove them\n",
        "\n",
        "df = df[df['lang']=='en']\n",
        "df.shape"
      ],
      "metadata": {
        "colab": {
          "base_uri": "https://localhost:8080/"
        },
        "id": "qHnq7fyS9SPT",
        "outputId": "8e30b6cc-8289-4e53-a1af-3e587fc2ebe7"
      },
      "execution_count": null,
      "outputs": [
        {
          "output_type": "execute_result",
          "data": {
            "text/plain": [
              "(46075, 13)"
            ]
          },
          "metadata": {},
          "execution_count": 81
        }
      ]
    },
    {
      "cell_type": "code",
      "source": [
        "df.dropna(subset = [\"title\",\"body\"], inplace=True)"
      ],
      "metadata": {
        "colab": {
          "base_uri": "https://localhost:8080/"
        },
        "id": "K_LH5kiVnOFF",
        "outputId": "d5b3dc83-5db9-4fb4-bf8c-5f6828712e0e"
      },
      "execution_count": null,
      "outputs": [
        {
          "output_type": "stream",
          "name": "stderr",
          "text": [
            "/usr/local/lib/python3.7/dist-packages/pandas/util/_decorators.py:311: SettingWithCopyWarning: \n",
            "A value is trying to be set on a copy of a slice from a DataFrame\n",
            "\n",
            "See the caveats in the documentation: https://pandas.pydata.org/pandas-docs/stable/user_guide/indexing.html#returning-a-view-versus-a-copy\n",
            "  return func(*args, **kwargs)\n"
          ]
        }
      ]
    },
    {
      "cell_type": "code",
      "source": [
        "df['combined'] = df['title'] +' '+df['body']"
      ],
      "metadata": {
        "colab": {
          "base_uri": "https://localhost:8080/"
        },
        "id": "HaG-8yxdjZNV",
        "outputId": "8310d405-f1d1-4f77-ebed-df5ad8571dbd"
      },
      "execution_count": null,
      "outputs": [
        {
          "output_type": "stream",
          "name": "stderr",
          "text": [
            "/usr/local/lib/python3.7/dist-packages/ipykernel_launcher.py:1: SettingWithCopyWarning: \n",
            "A value is trying to be set on a copy of a slice from a DataFrame.\n",
            "Try using .loc[row_indexer,col_indexer] = value instead\n",
            "\n",
            "See the caveats in the documentation: https://pandas.pydata.org/pandas-docs/stable/user_guide/indexing.html#returning-a-view-versus-a-copy\n",
            "  \"\"\"Entry point for launching an IPython kernel.\n"
          ]
        }
      ]
    },
    {
      "cell_type": "code",
      "source": [
        "wnl = WordNetLemmatizer()\n",
        " \n",
        "def pos_tag_wordnet(tagged_tokens):\n",
        "  tag_map = {'j': wordnet.ADJ, 'v': wordnet.VERB, 'n': wordnet.NOUN, 'r': wordnet.ADV}\n",
        "  new_tagged_tokens = [(word, tag_map.get(tag[0].lower(), wordnet.NOUN))\n",
        "                          for word, tag in tagged_tokens]\n",
        "  return new_tagged_tokens\n",
        "def wordnet_lemmatize_text(text):\n",
        "  tagged_tokens = nltk.pos_tag(nltk.word_tokenize(text))\n",
        "  wordnet_tokens = pos_tag_wordnet(tagged_tokens)\n",
        "  lemmatized_text = ' '.join(wnl.lemmatize(word,tag) for word, tag in wordnet_tokens)\n",
        "  return lemmatized_text\n"
      ],
      "metadata": {
        "id": "c-PiUIK_9-h6"
      },
      "execution_count": null,
      "outputs": []
    },
    {
      "cell_type": "code",
      "source": [
        "ToAvoid = [\n",
        "    'please', 'dear', 'dears',\n",
        "    'best regards', 'hi', 'hello', 'good morning',\n",
        "    'good bye', 'thank you', 'have a great day',\n",
        "    'have a nice day', 'kind regards'\n",
        "]\n",
        "def cleanEmailBody(emailBody):\n",
        "  for sent in ToAvoid:\n",
        "    emailBody = re.sub(sent, '', emailBody, flags = re.IGNORECASE)\n",
        "  return emailBody\n",
        "\n",
        "def clean(x):\n",
        "  x = (str(x).lower())\n",
        "  x = (re.sub(r'[0-9]', \" \", str(x)))\n",
        "  return x\n",
        "  \n",
        "def StopWordsRemoval(text):\n",
        "  word_tokens = word_tokenize(text)\n",
        "  filtered_sentence = [w for w in word_tokens if not w.lower() in set(stopwords.words('english'))]\n",
        "  return (' '.join(filtered_sentence))"
      ],
      "metadata": {
        "id": "3fB4PDp39-oK"
      },
      "execution_count": null,
      "outputs": []
    },
    {
      "cell_type": "code",
      "source": [
        "def preprocessing(x):\n",
        "  x = str(x)\n",
        "  x = wordnet_lemmatize_text(x)\n",
        "  x = cleanEmailBody(x)\n",
        "  x = clean(x)\n",
        "  x = x.strip()\n",
        "  x = StopWordsRemoval(x)\n",
        "  return x\n"
      ],
      "metadata": {
        "id": "cQKcMUvUiAzO"
      },
      "execution_count": null,
      "outputs": []
    },
    {
      "cell_type": "code",
      "source": [
        "df['clean']= df['combined'].apply(lambda x: preprocessing(str(x)))"
      ],
      "metadata": {
        "id": "AWC4cQ8XopKG"
      },
      "execution_count": null,
      "outputs": []
    },
    {
      "cell_type": "code",
      "source": [
        "df.head()"
      ],
      "metadata": {
        "colab": {
          "base_uri": "https://localhost:8080/",
          "height": 337
        },
        "id": "JOhiis4rkGWF",
        "outputId": "a9419002-bf3d-49da-b314-3c24377c07fa"
      },
      "execution_count": null,
      "outputs": [
        {
          "output_type": "execute_result",
          "data": {
            "text/plain": [
              "                                   title  \\\n",
              "1                   connection with icon   \n",
              "2                   work experience user   \n",
              "3                 requesting for meeting   \n",
              "4  reset passwords for external accounts   \n",
              "5                                   mail   \n",
              "\n",
              "                                                body  ticket_type  category  \\\n",
              "1  icon dear please setup icon per icon engineers...            1         6   \n",
              "2  work experience user hi work experience studen...            1         5   \n",
              "3  requesting meeting hi please help follow equip...            1         5   \n",
              "4  re expire days hi ask help update passwords co...            1         4   \n",
              "5  verification warning hi has got attached pleas...            1         4   \n",
              "\n",
              "   sub_category1  sub_category2  business_service  urgency  impact lang  \\\n",
              "1             22              7                26        3       4   en   \n",
              "2             13              7                32        3       4   en   \n",
              "3             13              7                32        3       4   en   \n",
              "4              2             76                 4        3       4   en   \n",
              "5              3              7                89        3       4   en   \n",
              "\n",
              "  title_lang                                           combined  \\\n",
              "1         en  connection with icon icon dear please setup ic...   \n",
              "2         en  work experience user work experience user hi w...   \n",
              "3         en  requesting for meeting requesting meeting hi p...   \n",
              "4         en  reset passwords for external accounts re expir...   \n",
              "5         en  mail verification warning hi has got attached ...   \n",
              "\n",
              "                                               clean  \n",
              "1  connection icon icon setup icon per icon engin...  \n",
              "2  work experience user work experience user work...  \n",
              "3  request meet request meeting help follow equip...  \n",
              "4  reset password external account expire day ask...  \n",
              "5  mail verification warn get attach address best...  "
            ],
            "text/html": [
              "\n",
              "  <div id=\"df-9ec8e360-f4ed-47c6-9643-ecc2426d3cc9\">\n",
              "    <div class=\"colab-df-container\">\n",
              "      <div>\n",
              "<style scoped>\n",
              "    .dataframe tbody tr th:only-of-type {\n",
              "        vertical-align: middle;\n",
              "    }\n",
              "\n",
              "    .dataframe tbody tr th {\n",
              "        vertical-align: top;\n",
              "    }\n",
              "\n",
              "    .dataframe thead th {\n",
              "        text-align: right;\n",
              "    }\n",
              "</style>\n",
              "<table border=\"1\" class=\"dataframe\">\n",
              "  <thead>\n",
              "    <tr style=\"text-align: right;\">\n",
              "      <th></th>\n",
              "      <th>title</th>\n",
              "      <th>body</th>\n",
              "      <th>ticket_type</th>\n",
              "      <th>category</th>\n",
              "      <th>sub_category1</th>\n",
              "      <th>sub_category2</th>\n",
              "      <th>business_service</th>\n",
              "      <th>urgency</th>\n",
              "      <th>impact</th>\n",
              "      <th>lang</th>\n",
              "      <th>title_lang</th>\n",
              "      <th>combined</th>\n",
              "      <th>clean</th>\n",
              "    </tr>\n",
              "  </thead>\n",
              "  <tbody>\n",
              "    <tr>\n",
              "      <th>1</th>\n",
              "      <td>connection with icon</td>\n",
              "      <td>icon dear please setup icon per icon engineers...</td>\n",
              "      <td>1</td>\n",
              "      <td>6</td>\n",
              "      <td>22</td>\n",
              "      <td>7</td>\n",
              "      <td>26</td>\n",
              "      <td>3</td>\n",
              "      <td>4</td>\n",
              "      <td>en</td>\n",
              "      <td>en</td>\n",
              "      <td>connection with icon icon dear please setup ic...</td>\n",
              "      <td>connection icon icon setup icon per icon engin...</td>\n",
              "    </tr>\n",
              "    <tr>\n",
              "      <th>2</th>\n",
              "      <td>work experience user</td>\n",
              "      <td>work experience user hi work experience studen...</td>\n",
              "      <td>1</td>\n",
              "      <td>5</td>\n",
              "      <td>13</td>\n",
              "      <td>7</td>\n",
              "      <td>32</td>\n",
              "      <td>3</td>\n",
              "      <td>4</td>\n",
              "      <td>en</td>\n",
              "      <td>en</td>\n",
              "      <td>work experience user work experience user hi w...</td>\n",
              "      <td>work experience user work experience user work...</td>\n",
              "    </tr>\n",
              "    <tr>\n",
              "      <th>3</th>\n",
              "      <td>requesting for meeting</td>\n",
              "      <td>requesting meeting hi please help follow equip...</td>\n",
              "      <td>1</td>\n",
              "      <td>5</td>\n",
              "      <td>13</td>\n",
              "      <td>7</td>\n",
              "      <td>32</td>\n",
              "      <td>3</td>\n",
              "      <td>4</td>\n",
              "      <td>en</td>\n",
              "      <td>en</td>\n",
              "      <td>requesting for meeting requesting meeting hi p...</td>\n",
              "      <td>request meet request meeting help follow equip...</td>\n",
              "    </tr>\n",
              "    <tr>\n",
              "      <th>4</th>\n",
              "      <td>reset passwords for external accounts</td>\n",
              "      <td>re expire days hi ask help update passwords co...</td>\n",
              "      <td>1</td>\n",
              "      <td>4</td>\n",
              "      <td>2</td>\n",
              "      <td>76</td>\n",
              "      <td>4</td>\n",
              "      <td>3</td>\n",
              "      <td>4</td>\n",
              "      <td>en</td>\n",
              "      <td>en</td>\n",
              "      <td>reset passwords for external accounts re expir...</td>\n",
              "      <td>reset password external account expire day ask...</td>\n",
              "    </tr>\n",
              "    <tr>\n",
              "      <th>5</th>\n",
              "      <td>mail</td>\n",
              "      <td>verification warning hi has got attached pleas...</td>\n",
              "      <td>1</td>\n",
              "      <td>4</td>\n",
              "      <td>3</td>\n",
              "      <td>7</td>\n",
              "      <td>89</td>\n",
              "      <td>3</td>\n",
              "      <td>4</td>\n",
              "      <td>en</td>\n",
              "      <td>en</td>\n",
              "      <td>mail verification warning hi has got attached ...</td>\n",
              "      <td>mail verification warn get attach address best...</td>\n",
              "    </tr>\n",
              "  </tbody>\n",
              "</table>\n",
              "</div>\n",
              "      <button class=\"colab-df-convert\" onclick=\"convertToInteractive('df-9ec8e360-f4ed-47c6-9643-ecc2426d3cc9')\"\n",
              "              title=\"Convert this dataframe to an interactive table.\"\n",
              "              style=\"display:none;\">\n",
              "        \n",
              "  <svg xmlns=\"http://www.w3.org/2000/svg\" height=\"24px\"viewBox=\"0 0 24 24\"\n",
              "       width=\"24px\">\n",
              "    <path d=\"M0 0h24v24H0V0z\" fill=\"none\"/>\n",
              "    <path d=\"M18.56 5.44l.94 2.06.94-2.06 2.06-.94-2.06-.94-.94-2.06-.94 2.06-2.06.94zm-11 1L8.5 8.5l.94-2.06 2.06-.94-2.06-.94L8.5 2.5l-.94 2.06-2.06.94zm10 10l.94 2.06.94-2.06 2.06-.94-2.06-.94-.94-2.06-.94 2.06-2.06.94z\"/><path d=\"M17.41 7.96l-1.37-1.37c-.4-.4-.92-.59-1.43-.59-.52 0-1.04.2-1.43.59L10.3 9.45l-7.72 7.72c-.78.78-.78 2.05 0 2.83L4 21.41c.39.39.9.59 1.41.59.51 0 1.02-.2 1.41-.59l7.78-7.78 2.81-2.81c.8-.78.8-2.07 0-2.86zM5.41 20L4 18.59l7.72-7.72 1.47 1.35L5.41 20z\"/>\n",
              "  </svg>\n",
              "      </button>\n",
              "      \n",
              "  <style>\n",
              "    .colab-df-container {\n",
              "      display:flex;\n",
              "      flex-wrap:wrap;\n",
              "      gap: 12px;\n",
              "    }\n",
              "\n",
              "    .colab-df-convert {\n",
              "      background-color: #E8F0FE;\n",
              "      border: none;\n",
              "      border-radius: 50%;\n",
              "      cursor: pointer;\n",
              "      display: none;\n",
              "      fill: #1967D2;\n",
              "      height: 32px;\n",
              "      padding: 0 0 0 0;\n",
              "      width: 32px;\n",
              "    }\n",
              "\n",
              "    .colab-df-convert:hover {\n",
              "      background-color: #E2EBFA;\n",
              "      box-shadow: 0px 1px 2px rgba(60, 64, 67, 0.3), 0px 1px 3px 1px rgba(60, 64, 67, 0.15);\n",
              "      fill: #174EA6;\n",
              "    }\n",
              "\n",
              "    [theme=dark] .colab-df-convert {\n",
              "      background-color: #3B4455;\n",
              "      fill: #D2E3FC;\n",
              "    }\n",
              "\n",
              "    [theme=dark] .colab-df-convert:hover {\n",
              "      background-color: #434B5C;\n",
              "      box-shadow: 0px 1px 3px 1px rgba(0, 0, 0, 0.15);\n",
              "      filter: drop-shadow(0px 1px 2px rgba(0, 0, 0, 0.3));\n",
              "      fill: #FFFFFF;\n",
              "    }\n",
              "  </style>\n",
              "\n",
              "      <script>\n",
              "        const buttonEl =\n",
              "          document.querySelector('#df-9ec8e360-f4ed-47c6-9643-ecc2426d3cc9 button.colab-df-convert');\n",
              "        buttonEl.style.display =\n",
              "          google.colab.kernel.accessAllowed ? 'block' : 'none';\n",
              "\n",
              "        async function convertToInteractive(key) {\n",
              "          const element = document.querySelector('#df-9ec8e360-f4ed-47c6-9643-ecc2426d3cc9');\n",
              "          const dataTable =\n",
              "            await google.colab.kernel.invokeFunction('convertToInteractive',\n",
              "                                                     [key], {});\n",
              "          if (!dataTable) return;\n",
              "\n",
              "          const docLinkHtml = 'Like what you see? Visit the ' +\n",
              "            '<a target=\"_blank\" href=https://colab.research.google.com/notebooks/data_table.ipynb>data table notebook</a>'\n",
              "            + ' to learn more about interactive tables.';\n",
              "          element.innerHTML = '';\n",
              "          dataTable['output_type'] = 'display_data';\n",
              "          await google.colab.output.renderOutput(dataTable, element);\n",
              "          const docLink = document.createElement('div');\n",
              "          docLink.innerHTML = docLinkHtml;\n",
              "          element.appendChild(docLink);\n",
              "        }\n",
              "      </script>\n",
              "    </div>\n",
              "  </div>\n",
              "  "
            ]
          },
          "metadata": {},
          "execution_count": 88
        }
      ]
    },
    {
      "cell_type": "code",
      "source": [
        "from google.colab import files\n",
        "df.to_csv('output.csv', encoding = 'utf-8-sig') \n",
        "files.download('output.csv')"
      ],
      "metadata": {
        "colab": {
          "base_uri": "https://localhost:8080/",
          "height": 17
        },
        "id": "BNmQMO1ztf-7",
        "outputId": "ba7a0146-ec62-4286-a4ca-d4d0c93e399c"
      },
      "execution_count": null,
      "outputs": [
        {
          "output_type": "display_data",
          "data": {
            "text/plain": [
              "<IPython.core.display.Javascript object>"
            ],
            "application/javascript": [
              "\n",
              "    async function download(id, filename, size) {\n",
              "      if (!google.colab.kernel.accessAllowed) {\n",
              "        return;\n",
              "      }\n",
              "      const div = document.createElement('div');\n",
              "      const label = document.createElement('label');\n",
              "      label.textContent = `Downloading \"${filename}\": `;\n",
              "      div.appendChild(label);\n",
              "      const progress = document.createElement('progress');\n",
              "      progress.max = size;\n",
              "      div.appendChild(progress);\n",
              "      document.body.appendChild(div);\n",
              "\n",
              "      const buffers = [];\n",
              "      let downloaded = 0;\n",
              "\n",
              "      const channel = await google.colab.kernel.comms.open(id);\n",
              "      // Send a message to notify the kernel that we're ready.\n",
              "      channel.send({})\n",
              "\n",
              "      for await (const message of channel.messages) {\n",
              "        // Send a message to notify the kernel that we're ready.\n",
              "        channel.send({})\n",
              "        if (message.buffers) {\n",
              "          for (const buffer of message.buffers) {\n",
              "            buffers.push(buffer);\n",
              "            downloaded += buffer.byteLength;\n",
              "            progress.value = downloaded;\n",
              "          }\n",
              "        }\n",
              "      }\n",
              "      const blob = new Blob(buffers, {type: 'application/binary'});\n",
              "      const a = document.createElement('a');\n",
              "      a.href = window.URL.createObjectURL(blob);\n",
              "      a.download = filename;\n",
              "      div.appendChild(a);\n",
              "      a.click();\n",
              "      div.remove();\n",
              "    }\n",
              "  "
            ]
          },
          "metadata": {}
        },
        {
          "output_type": "display_data",
          "data": {
            "text/plain": [
              "<IPython.core.display.Javascript object>"
            ],
            "application/javascript": [
              "download(\"download_c99f8d51-a021-4288-b7d2-bfa788a43d29\", \"output.csv\", 40110612)"
            ]
          },
          "metadata": {}
        }
      ]
    },
    {
      "cell_type": "markdown",
      "source": [
        "# Ticket Type Prediction - Binary Classification"
      ],
      "metadata": {
        "id": "Qmz4xZtjuuPc"
      }
    },
    {
      "cell_type": "code",
      "source": [
        "df_train, df_test = train_test_split(df, test_size = 0.2, shuffle = True, stratify= df['ticket_type'], random_state = 31)"
      ],
      "metadata": {
        "id": "10JffOert29C"
      },
      "execution_count": null,
      "outputs": []
    },
    {
      "cell_type": "code",
      "source": [
        "from sklearn.feature_extraction.text import TfidfVectorizer\n",
        "vectorizer = TfidfVectorizer(max_features = 2000, ngram_range = (1,1), max_df = 0.8)\n",
        "\n",
        "X_train_tf = vectorizer.fit_transform(df_train['clean'])\n",
        "X_test_tf = vectorizer.transform(df_test['clean'])"
      ],
      "metadata": {
        "id": "zXCoSBy1viiy"
      },
      "execution_count": null,
      "outputs": []
    },
    {
      "cell_type": "code",
      "source": [
        "from sklearn.metrics import classification_report, accuracy_score"
      ],
      "metadata": {
        "id": "K_hKCRmdwEfw"
      },
      "execution_count": null,
      "outputs": []
    },
    {
      "cell_type": "code",
      "source": [
        "import xgboost as xgb\n",
        "clf = xgb.XGBClassifier(max_depth=7, n_estimators = 200, colsample_bytree = 0.8, subsample = 0.8, nthread = 10, learning_rate = 0.1)\n",
        "\n",
        "clf.fit(X_train_tf, df_train['ticket_type'])\n",
        "\n",
        "predict = clf.predict(X_test_tf)\n",
        "\n",
        "print('Accuracy: %.3f' % accuracy_score(df_test['ticket_type'], predict))\n",
        "classification_report = classification_report(df_test['ticket_type'], predict)\n",
        "print(classification_report)"
      ],
      "metadata": {
        "colab": {
          "base_uri": "https://localhost:8080/",
          "height": 70
        },
        "id": "Skg77XShwO-f",
        "outputId": "cbe34008-ec83-4ef7-9b20-bb52edb3792b"
      },
      "execution_count": null,
      "outputs": [
        {
          "output_type": "stream",
          "name": "stdout",
          "text": [
            "Accuracy: 0.980\n"
          ]
        },
        {
          "output_type": "execute_result",
          "data": {
            "text/plain": [
              "'              precision    recall  f1-score   support\\n\\n           0       0.98      0.96      0.97      2656\\n           1       0.98      0.99      0.99      6559\\n\\n    accuracy                           0.98      9215\\n   macro avg       0.98      0.97      0.98      9215\\nweighted avg       0.98      0.98      0.98      9215\\n'"
            ],
            "application/vnd.google.colaboratory.intrinsic+json": {
              "type": "string"
            }
          },
          "metadata": {},
          "execution_count": 100
        }
      ]
    },
    {
      "cell_type": "code",
      "source": [
        "rep = classification_report(df_test['ticket_type'], predict)\n",
        "print(rep)"
      ],
      "metadata": {
        "colab": {
          "base_uri": "https://localhost:8080/"
        },
        "id": "doikMN_FxazX",
        "outputId": "e9fe020e-cae0-41b8-a0a7-d9fe25147423"
      },
      "execution_count": null,
      "outputs": [
        {
          "output_type": "stream",
          "name": "stdout",
          "text": [
            "              precision    recall  f1-score   support\n",
            "\n",
            "           0       0.98      0.96      0.97      2656\n",
            "           1       0.98      0.99      0.99      6559\n",
            "\n",
            "    accuracy                           0.98      9215\n",
            "   macro avg       0.98      0.97      0.98      9215\n",
            "weighted avg       0.98      0.98      0.98      9215\n",
            "\n"
          ]
        }
      ]
    },
    {
      "cell_type": "markdown",
      "source": [
        "#Oversampling - data augmentation"
      ],
      "metadata": {
        "id": "6DFumVAlhcpU"
      }
    },
    {
      "cell_type": "code",
      "source": [
        "#Obviously I could check more models and do fine tuning, but the results are good, so as part of the experiment I will check how the model behaves after using upsampling method since data is imbalanced\n",
        "# for this purpose we will use data augmentation techniques"
      ],
      "metadata": {
        "id": "Ik0DPoVaxnQu"
      },
      "execution_count": null,
      "outputs": []
    },
    {
      "cell_type": "code",
      "source": [
        "!pip install nlpaug"
      ],
      "metadata": {
        "colab": {
          "base_uri": "https://localhost:8080/"
        },
        "id": "9o9LXfxKPgWn",
        "outputId": "27e01668-4089-4099-d8af-1858a19f0710"
      },
      "execution_count": 3,
      "outputs": [
        {
          "output_type": "stream",
          "name": "stdout",
          "text": [
            "Looking in indexes: https://pypi.org/simple, https://us-python.pkg.dev/colab-wheels/public/simple/\n",
            "Collecting nlpaug\n",
            "  Downloading nlpaug-1.1.11-py3-none-any.whl (410 kB)\n",
            "\u001b[K     |████████████████████████████████| 410 kB 8.2 MB/s \n",
            "\u001b[?25hRequirement already satisfied: gdown>=4.0.0 in /usr/local/lib/python3.7/dist-packages (from nlpaug) (4.4.0)\n",
            "Requirement already satisfied: numpy>=1.16.2 in /usr/local/lib/python3.7/dist-packages (from nlpaug) (1.21.6)\n",
            "Requirement already satisfied: pandas>=1.2.0 in /usr/local/lib/python3.7/dist-packages (from nlpaug) (1.3.5)\n",
            "Requirement already satisfied: requests>=2.22.0 in /usr/local/lib/python3.7/dist-packages (from nlpaug) (2.23.0)\n",
            "Requirement already satisfied: beautifulsoup4 in /usr/local/lib/python3.7/dist-packages (from gdown>=4.0.0->nlpaug) (4.6.3)\n",
            "Requirement already satisfied: filelock in /usr/local/lib/python3.7/dist-packages (from gdown>=4.0.0->nlpaug) (3.8.0)\n",
            "Requirement already satisfied: six in /usr/local/lib/python3.7/dist-packages (from gdown>=4.0.0->nlpaug) (1.15.0)\n",
            "Requirement already satisfied: tqdm in /usr/local/lib/python3.7/dist-packages (from gdown>=4.0.0->nlpaug) (4.64.1)\n",
            "Requirement already satisfied: python-dateutil>=2.7.3 in /usr/local/lib/python3.7/dist-packages (from pandas>=1.2.0->nlpaug) (2.8.2)\n",
            "Requirement already satisfied: pytz>=2017.3 in /usr/local/lib/python3.7/dist-packages (from pandas>=1.2.0->nlpaug) (2022.2.1)\n",
            "Requirement already satisfied: chardet<4,>=3.0.2 in /usr/local/lib/python3.7/dist-packages (from requests>=2.22.0->nlpaug) (3.0.4)\n",
            "Requirement already satisfied: certifi>=2017.4.17 in /usr/local/lib/python3.7/dist-packages (from requests>=2.22.0->nlpaug) (2022.6.15)\n",
            "Requirement already satisfied: urllib3!=1.25.0,!=1.25.1,<1.26,>=1.21.1 in /usr/local/lib/python3.7/dist-packages (from requests>=2.22.0->nlpaug) (1.24.3)\n",
            "Requirement already satisfied: idna<3,>=2.5 in /usr/local/lib/python3.7/dist-packages (from requests>=2.22.0->nlpaug) (2.10)\n",
            "Requirement already satisfied: PySocks!=1.5.7,>=1.5.6 in /usr/local/lib/python3.7/dist-packages (from requests>=2.22.0->nlpaug) (1.7.1)\n",
            "Installing collected packages: nlpaug\n",
            "Successfully installed nlpaug-1.1.11\n"
          ]
        }
      ]
    },
    {
      "cell_type": "code",
      "source": [
        "import nlpaug.augmenter.char as nac\n",
        "import nlpaug.augmenter.word as naw\n",
        "import nlpaug.augmenter.sentence as nas \n",
        "import nlpaug.flow as nafc\n",
        "from nlpaug.util import Action\n",
        "from sklearn.utils import resample"
      ],
      "metadata": {
        "id": "4svWpnJHipbj"
      },
      "execution_count": 4,
      "outputs": []
    },
    {
      "cell_type": "code",
      "source": [
        "df = pd.read_csv('/content/gdrive/My Drive/tickets/output.csv')"
      ],
      "metadata": {
        "id": "SPjROTVqigrK"
      },
      "execution_count": 45,
      "outputs": []
    },
    {
      "cell_type": "code",
      "source": [
        "def prepare(data, clas, class_max):\n",
        "    data = data[data['class']==clas]\n",
        "    total_rows = class_max.shape[0]\n",
        "    n = total_rows - data[data['class']==clas].shape[0]\n",
        "    class_new = resample(data, replace = True, n_samples = n, random_state = 43)\n",
        "  \n",
        "    return class_new"
      ],
      "metadata": {
        "id": "p-CFW-glyM-t"
      },
      "execution_count": null,
      "outputs": []
    },
    {
      "cell_type": "code",
      "source": [
        "def augmenting(text):\n",
        "  aug = naw.SynonymAug(aug_src='wordnet')\n",
        "  augmented_text = aug.augment(text)\n",
        "  return augmented_text"
      ],
      "metadata": {
        "id": "YXNQll4ZgV_R"
      },
      "execution_count": null,
      "outputs": []
    },
    {
      "cell_type": "code",
      "source": [
        " df['ticket_type'].value_counts()"
      ],
      "metadata": {
        "colab": {
          "base_uri": "https://localhost:8080/"
        },
        "id": "RPkChi5hjaca",
        "outputId": "1689ad22-3879-463b-cc56-74edd47a87e9"
      },
      "execution_count": null,
      "outputs": [
        {
          "output_type": "execute_result",
          "data": {
            "text/plain": [
              "1    32797\n",
              "0    13278\n",
              "Name: ticket_type, dtype: int64"
            ]
          },
          "metadata": {},
          "execution_count": 8
        }
      ]
    },
    {
      "cell_type": "code",
      "source": [
        "X_train, X_test, y_train, y_test = train_test_split(df['clean'], df['ticket_type'], test_size = 0.2, shuffle = True, stratify= df['ticket_type'], random_state = 31)\n",
        "train_df = pd.DataFrame({'vector': X_train, 'class': y_train})\n",
        "test_df = pd.DataFrame({'vector': X_test, 'class': y_test})"
      ],
      "metadata": {
        "id": "baKcw8xugovM"
      },
      "execution_count": null,
      "outputs": []
    },
    {
      "cell_type": "code",
      "source": [
        "test_df['class'].value_counts()"
      ],
      "metadata": {
        "colab": {
          "base_uri": "https://localhost:8080/"
        },
        "id": "wR3zKtivjhdC",
        "outputId": "f047eaa2-e512-4e9f-8221-dd43b97ffddd"
      },
      "execution_count": null,
      "outputs": [
        {
          "output_type": "execute_result",
          "data": {
            "text/plain": [
              "1    6559\n",
              "0    2656\n",
              "Name: class, dtype: int64"
            ]
          },
          "metadata": {},
          "execution_count": 10
        }
      ]
    },
    {
      "cell_type": "code",
      "source": [
        "train_df['class'].value_counts()"
      ],
      "metadata": {
        "colab": {
          "base_uri": "https://localhost:8080/"
        },
        "id": "5eivr4MUjyZt",
        "outputId": "0da93c13-0c8e-4439-db27-54df64fe79b2"
      },
      "execution_count": null,
      "outputs": [
        {
          "output_type": "execute_result",
          "data": {
            "text/plain": [
              "1    26238\n",
              "0    10622\n",
              "Name: class, dtype: int64"
            ]
          },
          "metadata": {},
          "execution_count": 11
        }
      ]
    },
    {
      "cell_type": "code",
      "source": [
        "top_class = train_df[train_df['class']==1]"
      ],
      "metadata": {
        "id": "LxRcjrfyiMbb"
      },
      "execution_count": null,
      "outputs": []
    },
    {
      "cell_type": "code",
      "source": [
        "resampled = prepare(train_df,0,top_class)"
      ],
      "metadata": {
        "id": "rYW1JUsCkOm5"
      },
      "execution_count": null,
      "outputs": []
    },
    {
      "cell_type": "code",
      "source": [
        "resampled.shape"
      ],
      "metadata": {
        "colab": {
          "base_uri": "https://localhost:8080/"
        },
        "id": "UZz2XCuWkeAe",
        "outputId": "916f78bf-f0ad-4153-fbac-95ed24b16f93"
      },
      "execution_count": null,
      "outputs": [
        {
          "output_type": "execute_result",
          "data": {
            "text/plain": [
              "(15616, 2)"
            ]
          },
          "metadata": {},
          "execution_count": 14
        }
      ]
    },
    {
      "cell_type": "code",
      "source": [
        "#sanity_check\n",
        "print(resampled.shape[0]+train_df[train_df['class']==0].shape[0])"
      ],
      "metadata": {
        "colab": {
          "base_uri": "https://localhost:8080/"
        },
        "id": "tNrKaj2wmj4_",
        "outputId": "6968b1ec-96d9-422a-cf96-49bc783b8b36"
      },
      "execution_count": null,
      "outputs": [
        {
          "output_type": "stream",
          "name": "stdout",
          "text": [
            "26238\n"
          ]
        }
      ]
    },
    {
      "cell_type": "code",
      "source": [
        "resampled['vector']=resampled['vector'].apply(lambda x: augmenting(str(x)))"
      ],
      "metadata": {
        "id": "JEjs3eJlm0oY"
      },
      "execution_count": null,
      "outputs": []
    },
    {
      "cell_type": "code",
      "source": [
        "frames = [train_df, resampled]\n",
        "train_df = pd.concat(frames)\n",
        "train_df['class'].value_counts()"
      ],
      "metadata": {
        "colab": {
          "base_uri": "https://localhost:8080/"
        },
        "id": "rOTMswLUnO8O",
        "outputId": "231a1da4-6908-40ab-bb80-30d498a38c5a"
      },
      "execution_count": null,
      "outputs": [
        {
          "output_type": "execute_result",
          "data": {
            "text/plain": [
              "1    26238\n",
              "0    26238\n",
              "Name: class, dtype: int64"
            ]
          },
          "metadata": {},
          "execution_count": 17
        }
      ]
    },
    {
      "cell_type": "code",
      "source": [
        "test_df['class'].value_counts()"
      ],
      "metadata": {
        "colab": {
          "base_uri": "https://localhost:8080/"
        },
        "id": "exEYi9EMnmxX",
        "outputId": "49262c1a-bb69-4ec0-9fd0-7c9134532db2"
      },
      "execution_count": null,
      "outputs": [
        {
          "output_type": "execute_result",
          "data": {
            "text/plain": [
              "1    6559\n",
              "0    2656\n",
              "Name: class, dtype: int64"
            ]
          },
          "metadata": {},
          "execution_count": 18
        }
      ]
    },
    {
      "cell_type": "code",
      "source": [
        "train_df['vector']= train_df['vector'].apply(lambda x: preprocessing(str(x)))"
      ],
      "metadata": {
        "id": "HWgHUxjjogI0"
      },
      "execution_count": null,
      "outputs": []
    },
    {
      "cell_type": "code",
      "source": [
        "test_df['vector']= test_df['vector'].apply(lambda x: preprocessing(str(x)))"
      ],
      "metadata": {
        "id": "uZjHC4sWo3YM"
      },
      "execution_count": null,
      "outputs": []
    },
    {
      "cell_type": "code",
      "source": [
        "from sklearn.feature_extraction.text import TfidfVectorizer\n",
        "vectorizer = TfidfVectorizer(max_features = 2000, ngram_range = (1,1), max_df = 0.8)\n",
        "\n",
        "X_train_tf = vectorizer.fit_transform(train_df['vector'])\n",
        "X_test_tf = vectorizer.transform(test_df['vector'])"
      ],
      "metadata": {
        "id": "2jnsTZyMnsP2"
      },
      "execution_count": null,
      "outputs": []
    },
    {
      "cell_type": "code",
      "source": [
        "from sklearn.metrics import classification_report, accuracy_score"
      ],
      "metadata": {
        "id": "GE7OolElnvs2"
      },
      "execution_count": 33,
      "outputs": []
    },
    {
      "cell_type": "code",
      "source": [
        "import xgboost as xgb\n",
        "clf = xgb.XGBClassifier(max_depth=7, n_estimators = 200, colsample_bytree = 0.8, subsample = 0.8, nthread = 10, learning_rate = 0.1)\n",
        "\n",
        "clf.fit(X_train_tf, train_df['class'])\n",
        "\n",
        "predict = clf.predict(X_test_tf)\n",
        "\n",
        "print('Accuracy: %.3f' % accuracy_score(test_df['class'], predict))\n",
        "classification_report = classification_report(test_df['class'], predict)\n",
        "print(classification_report)"
      ],
      "metadata": {
        "colab": {
          "base_uri": "https://localhost:8080/"
        },
        "id": "j6VlQoOxnx9G",
        "outputId": "b1664e4c-38fa-4522-da0d-32eee737ae46"
      },
      "execution_count": null,
      "outputs": [
        {
          "output_type": "stream",
          "name": "stdout",
          "text": [
            "Accuracy: 0.979\n",
            "              precision    recall  f1-score   support\n",
            "\n",
            "           0       0.95      0.98      0.96      2656\n",
            "           1       0.99      0.98      0.99      6559\n",
            "\n",
            "    accuracy                           0.98      9215\n",
            "   macro avg       0.97      0.98      0.97      9215\n",
            "weighted avg       0.98      0.98      0.98      9215\n",
            "\n"
          ]
        }
      ]
    },
    {
      "cell_type": "markdown",
      "source": [
        "# Category prediction"
      ],
      "metadata": {
        "id": "koExvvcUTdsR"
      }
    },
    {
      "cell_type": "code",
      "source": [
        "df.head()"
      ],
      "metadata": {
        "colab": {
          "base_uri": "https://localhost:8080/",
          "height": 354
        },
        "id": "OiV1sjLwT6CS",
        "outputId": "1933503f-3433-494a-bde5-c6dbdfea65c5"
      },
      "execution_count": 46,
      "outputs": [
        {
          "output_type": "execute_result",
          "data": {
            "text/plain": [
              "   Unnamed: 0                                  title  \\\n",
              "0           1                   connection with icon   \n",
              "1           2                   work experience user   \n",
              "2           3                 requesting for meeting   \n",
              "3           4  reset passwords for external accounts   \n",
              "4           5                                   mail   \n",
              "\n",
              "                                                body  ticket_type  category  \\\n",
              "0  icon dear please setup icon per icon engineers...            1         6   \n",
              "1  work experience user hi work experience studen...            1         5   \n",
              "2  requesting meeting hi please help follow equip...            1         5   \n",
              "3  re expire days hi ask help update passwords co...            1         4   \n",
              "4  verification warning hi has got attached pleas...            1         4   \n",
              "\n",
              "   sub_category1  sub_category2  business_service  urgency  impact lang  \\\n",
              "0             22              7                26        3       4   en   \n",
              "1             13              7                32        3       4   en   \n",
              "2             13              7                32        3       4   en   \n",
              "3              2             76                 4        3       4   en   \n",
              "4              3              7                89        3       4   en   \n",
              "\n",
              "  title_lang                                           combined  \\\n",
              "0         en  connection with icon icon dear please setup ic...   \n",
              "1         en  work experience user work experience user hi w...   \n",
              "2         en  requesting for meeting requesting meeting hi p...   \n",
              "3         en  reset passwords for external accounts re expir...   \n",
              "4         en  mail verification warning hi has got attached ...   \n",
              "\n",
              "                                               clean  \n",
              "0  connection icon icon setup icon per icon engin...  \n",
              "1  work experience user work experience user work...  \n",
              "2  request meet request meeting help follow equip...  \n",
              "3  reset password external account expire day ask...  \n",
              "4  mail verification warn get attach address best...  "
            ],
            "text/html": [
              "\n",
              "  <div id=\"df-8161dfb5-7e05-4dbb-ae91-57fda8927bc7\">\n",
              "    <div class=\"colab-df-container\">\n",
              "      <div>\n",
              "<style scoped>\n",
              "    .dataframe tbody tr th:only-of-type {\n",
              "        vertical-align: middle;\n",
              "    }\n",
              "\n",
              "    .dataframe tbody tr th {\n",
              "        vertical-align: top;\n",
              "    }\n",
              "\n",
              "    .dataframe thead th {\n",
              "        text-align: right;\n",
              "    }\n",
              "</style>\n",
              "<table border=\"1\" class=\"dataframe\">\n",
              "  <thead>\n",
              "    <tr style=\"text-align: right;\">\n",
              "      <th></th>\n",
              "      <th>Unnamed: 0</th>\n",
              "      <th>title</th>\n",
              "      <th>body</th>\n",
              "      <th>ticket_type</th>\n",
              "      <th>category</th>\n",
              "      <th>sub_category1</th>\n",
              "      <th>sub_category2</th>\n",
              "      <th>business_service</th>\n",
              "      <th>urgency</th>\n",
              "      <th>impact</th>\n",
              "      <th>lang</th>\n",
              "      <th>title_lang</th>\n",
              "      <th>combined</th>\n",
              "      <th>clean</th>\n",
              "    </tr>\n",
              "  </thead>\n",
              "  <tbody>\n",
              "    <tr>\n",
              "      <th>0</th>\n",
              "      <td>1</td>\n",
              "      <td>connection with icon</td>\n",
              "      <td>icon dear please setup icon per icon engineers...</td>\n",
              "      <td>1</td>\n",
              "      <td>6</td>\n",
              "      <td>22</td>\n",
              "      <td>7</td>\n",
              "      <td>26</td>\n",
              "      <td>3</td>\n",
              "      <td>4</td>\n",
              "      <td>en</td>\n",
              "      <td>en</td>\n",
              "      <td>connection with icon icon dear please setup ic...</td>\n",
              "      <td>connection icon icon setup icon per icon engin...</td>\n",
              "    </tr>\n",
              "    <tr>\n",
              "      <th>1</th>\n",
              "      <td>2</td>\n",
              "      <td>work experience user</td>\n",
              "      <td>work experience user hi work experience studen...</td>\n",
              "      <td>1</td>\n",
              "      <td>5</td>\n",
              "      <td>13</td>\n",
              "      <td>7</td>\n",
              "      <td>32</td>\n",
              "      <td>3</td>\n",
              "      <td>4</td>\n",
              "      <td>en</td>\n",
              "      <td>en</td>\n",
              "      <td>work experience user work experience user hi w...</td>\n",
              "      <td>work experience user work experience user work...</td>\n",
              "    </tr>\n",
              "    <tr>\n",
              "      <th>2</th>\n",
              "      <td>3</td>\n",
              "      <td>requesting for meeting</td>\n",
              "      <td>requesting meeting hi please help follow equip...</td>\n",
              "      <td>1</td>\n",
              "      <td>5</td>\n",
              "      <td>13</td>\n",
              "      <td>7</td>\n",
              "      <td>32</td>\n",
              "      <td>3</td>\n",
              "      <td>4</td>\n",
              "      <td>en</td>\n",
              "      <td>en</td>\n",
              "      <td>requesting for meeting requesting meeting hi p...</td>\n",
              "      <td>request meet request meeting help follow equip...</td>\n",
              "    </tr>\n",
              "    <tr>\n",
              "      <th>3</th>\n",
              "      <td>4</td>\n",
              "      <td>reset passwords for external accounts</td>\n",
              "      <td>re expire days hi ask help update passwords co...</td>\n",
              "      <td>1</td>\n",
              "      <td>4</td>\n",
              "      <td>2</td>\n",
              "      <td>76</td>\n",
              "      <td>4</td>\n",
              "      <td>3</td>\n",
              "      <td>4</td>\n",
              "      <td>en</td>\n",
              "      <td>en</td>\n",
              "      <td>reset passwords for external accounts re expir...</td>\n",
              "      <td>reset password external account expire day ask...</td>\n",
              "    </tr>\n",
              "    <tr>\n",
              "      <th>4</th>\n",
              "      <td>5</td>\n",
              "      <td>mail</td>\n",
              "      <td>verification warning hi has got attached pleas...</td>\n",
              "      <td>1</td>\n",
              "      <td>4</td>\n",
              "      <td>3</td>\n",
              "      <td>7</td>\n",
              "      <td>89</td>\n",
              "      <td>3</td>\n",
              "      <td>4</td>\n",
              "      <td>en</td>\n",
              "      <td>en</td>\n",
              "      <td>mail verification warning hi has got attached ...</td>\n",
              "      <td>mail verification warn get attach address best...</td>\n",
              "    </tr>\n",
              "  </tbody>\n",
              "</table>\n",
              "</div>\n",
              "      <button class=\"colab-df-convert\" onclick=\"convertToInteractive('df-8161dfb5-7e05-4dbb-ae91-57fda8927bc7')\"\n",
              "              title=\"Convert this dataframe to an interactive table.\"\n",
              "              style=\"display:none;\">\n",
              "        \n",
              "  <svg xmlns=\"http://www.w3.org/2000/svg\" height=\"24px\"viewBox=\"0 0 24 24\"\n",
              "       width=\"24px\">\n",
              "    <path d=\"M0 0h24v24H0V0z\" fill=\"none\"/>\n",
              "    <path d=\"M18.56 5.44l.94 2.06.94-2.06 2.06-.94-2.06-.94-.94-2.06-.94 2.06-2.06.94zm-11 1L8.5 8.5l.94-2.06 2.06-.94-2.06-.94L8.5 2.5l-.94 2.06-2.06.94zm10 10l.94 2.06.94-2.06 2.06-.94-2.06-.94-.94-2.06-.94 2.06-2.06.94z\"/><path d=\"M17.41 7.96l-1.37-1.37c-.4-.4-.92-.59-1.43-.59-.52 0-1.04.2-1.43.59L10.3 9.45l-7.72 7.72c-.78.78-.78 2.05 0 2.83L4 21.41c.39.39.9.59 1.41.59.51 0 1.02-.2 1.41-.59l7.78-7.78 2.81-2.81c.8-.78.8-2.07 0-2.86zM5.41 20L4 18.59l7.72-7.72 1.47 1.35L5.41 20z\"/>\n",
              "  </svg>\n",
              "      </button>\n",
              "      \n",
              "  <style>\n",
              "    .colab-df-container {\n",
              "      display:flex;\n",
              "      flex-wrap:wrap;\n",
              "      gap: 12px;\n",
              "    }\n",
              "\n",
              "    .colab-df-convert {\n",
              "      background-color: #E8F0FE;\n",
              "      border: none;\n",
              "      border-radius: 50%;\n",
              "      cursor: pointer;\n",
              "      display: none;\n",
              "      fill: #1967D2;\n",
              "      height: 32px;\n",
              "      padding: 0 0 0 0;\n",
              "      width: 32px;\n",
              "    }\n",
              "\n",
              "    .colab-df-convert:hover {\n",
              "      background-color: #E2EBFA;\n",
              "      box-shadow: 0px 1px 2px rgba(60, 64, 67, 0.3), 0px 1px 3px 1px rgba(60, 64, 67, 0.15);\n",
              "      fill: #174EA6;\n",
              "    }\n",
              "\n",
              "    [theme=dark] .colab-df-convert {\n",
              "      background-color: #3B4455;\n",
              "      fill: #D2E3FC;\n",
              "    }\n",
              "\n",
              "    [theme=dark] .colab-df-convert:hover {\n",
              "      background-color: #434B5C;\n",
              "      box-shadow: 0px 1px 3px 1px rgba(0, 0, 0, 0.15);\n",
              "      filter: drop-shadow(0px 1px 2px rgba(0, 0, 0, 0.3));\n",
              "      fill: #FFFFFF;\n",
              "    }\n",
              "  </style>\n",
              "\n",
              "      <script>\n",
              "        const buttonEl =\n",
              "          document.querySelector('#df-8161dfb5-7e05-4dbb-ae91-57fda8927bc7 button.colab-df-convert');\n",
              "        buttonEl.style.display =\n",
              "          google.colab.kernel.accessAllowed ? 'block' : 'none';\n",
              "\n",
              "        async function convertToInteractive(key) {\n",
              "          const element = document.querySelector('#df-8161dfb5-7e05-4dbb-ae91-57fda8927bc7');\n",
              "          const dataTable =\n",
              "            await google.colab.kernel.invokeFunction('convertToInteractive',\n",
              "                                                     [key], {});\n",
              "          if (!dataTable) return;\n",
              "\n",
              "          const docLinkHtml = 'Like what you see? Visit the ' +\n",
              "            '<a target=\"_blank\" href=https://colab.research.google.com/notebooks/data_table.ipynb>data table notebook</a>'\n",
              "            + ' to learn more about interactive tables.';\n",
              "          element.innerHTML = '';\n",
              "          dataTable['output_type'] = 'display_data';\n",
              "          await google.colab.output.renderOutput(dataTable, element);\n",
              "          const docLink = document.createElement('div');\n",
              "          docLink.innerHTML = docLinkHtml;\n",
              "          element.appendChild(docLink);\n",
              "        }\n",
              "      </script>\n",
              "    </div>\n",
              "  </div>\n",
              "  "
            ]
          },
          "metadata": {},
          "execution_count": 46
        }
      ]
    },
    {
      "cell_type": "code",
      "source": [
        "df['category'].value_counts()"
      ],
      "metadata": {
        "id": "3KZnhZ69Uk6N",
        "outputId": "de07974c-db58-4b13-c010-01d7859e50e4",
        "colab": {
          "base_uri": "https://localhost:8080/"
        }
      },
      "execution_count": 47,
      "outputs": [
        {
          "output_type": "execute_result",
          "data": {
            "text/plain": [
              "4     32558\n",
              "5      9089\n",
              "6      2499\n",
              "7       794\n",
              "11      499\n",
              "8       231\n",
              "9       169\n",
              "3       117\n",
              "1        68\n",
              "12       43\n",
              "0         3\n",
              "2         3\n",
              "10        2\n",
              "Name: category, dtype: int64"
            ]
          },
          "metadata": {},
          "execution_count": 47
        }
      ]
    },
    {
      "cell_type": "code",
      "source": [
        "c_df = df['category'].value_counts().to_frame()\n",
        "c_values = c_df['category'].to_list()\n",
        "i=0\n",
        "count=0\n",
        "for c in c_values:\n",
        "  if i <df.shape[0]*0.995:\n",
        "    i += c\n",
        "    count += 1\n",
        "print(f'{count} of {len(c_values)} categories are inside of the top 99.8%')"
      ],
      "metadata": {
        "colab": {
          "base_uri": "https://localhost:8080/"
        },
        "id": "ZxTNMhEEzEse",
        "outputId": "8e635dc4-ee8e-4054-cace-ed0cc2751123"
      },
      "execution_count": 48,
      "outputs": [
        {
          "output_type": "stream",
          "name": "stdout",
          "text": [
            "8 of 13 categories are inside of the top 99.8%\n"
          ]
        }
      ]
    },
    {
      "cell_type": "code",
      "source": [
        "def get_top_by_percentage(data, column, percentage):\n",
        "  counts = data[column].value_counts()\n",
        "  total_count = counts.sum()\n",
        "  counts_per = (counts / total_count)\n",
        "  counts_cs = counts_per.cumsum()\n",
        "  argmax = (counts_cs > percentage).argmax()\n",
        "  return counts[0:argmax+1]"
      ],
      "metadata": {
        "id": "URolu-9L0UQt"
      },
      "execution_count": 49,
      "outputs": []
    },
    {
      "cell_type": "code",
      "source": [
        "def get_data_top_by_percentage(data, column, percentage):\n",
        "  top = get_top_by_percentage(data,column,percentage)\n",
        "  toplist = list(top.index)\n",
        "  temp = data[~data[column].isin(toplist)]\n",
        "  temp.loc[:,'category']=-1\n",
        "  data = data[(data[column].isin(toplist))]\n",
        "  data = pd.concat([data, temp])\n",
        "  return data\n",
        "\n",
        "data = get_data_top_by_percentage(df, 'category', 0.995)"
      ],
      "metadata": {
        "colab": {
          "base_uri": "https://localhost:8080/"
        },
        "id": "KoKba6Lc1Q8y",
        "outputId": "b9896ee0-65ea-41f4-ad01-542c1cd96b16"
      },
      "execution_count": 50,
      "outputs": [
        {
          "output_type": "stream",
          "name": "stderr",
          "text": [
            "/usr/local/lib/python3.7/dist-packages/pandas/core/indexing.py:1817: SettingWithCopyWarning: \n",
            "A value is trying to be set on a copy of a slice from a DataFrame.\n",
            "Try using .loc[row_indexer,col_indexer] = value instead\n",
            "\n",
            "See the caveats in the documentation: https://pandas.pydata.org/pandas-docs/stable/user_guide/indexing.html#returning-a-view-versus-a-copy\n",
            "  self._setitem_single_column(loc, value, pi)\n"
          ]
        }
      ]
    },
    {
      "cell_type": "code",
      "source": [
        "data['category'].value_counts()"
      ],
      "metadata": {
        "colab": {
          "base_uri": "https://localhost:8080/"
        },
        "id": "LbT2aB5f2WhC",
        "outputId": "3e06a016-2ea7-4719-9ac2-20dde4a75deb"
      },
      "execution_count": 51,
      "outputs": [
        {
          "output_type": "execute_result",
          "data": {
            "text/plain": [
              " 4     32558\n",
              " 5      9089\n",
              " 6      2499\n",
              " 7       794\n",
              " 11      499\n",
              " 8       231\n",
              " 9       169\n",
              "-1       119\n",
              " 3       117\n",
              "Name: category, dtype: int64"
            ]
          },
          "metadata": {},
          "execution_count": 51
        }
      ]
    },
    {
      "cell_type": "code",
      "source": [
        "data['category'] = data['category'].astype('int')"
      ],
      "metadata": {
        "id": "J6dTkYCMH9xp"
      },
      "execution_count": 41,
      "outputs": []
    },
    {
      "cell_type": "code",
      "source": [
        "df_train, df_test = train_test_split(data, test_size = 0.2, shuffle = True, stratify= data['category'], random_state = 31)"
      ],
      "metadata": {
        "id": "7eIaszZuDjKW"
      },
      "execution_count": 52,
      "outputs": []
    },
    {
      "cell_type": "code",
      "source": [
        "from sklearn.feature_extraction.text import TfidfVectorizer\n",
        "vectorizer = TfidfVectorizer(max_features = 2000, ngram_range = (1,1), max_df = 0.8)\n",
        "\n",
        "X_train_tf = vectorizer.fit_transform(df_train['clean'])\n",
        "X_test_tf = vectorizer.transform(df_test['clean'])"
      ],
      "metadata": {
        "id": "Mgkl3gp1DuYe"
      },
      "execution_count": 53,
      "outputs": []
    },
    {
      "cell_type": "code",
      "source": [
        "import xgboost as xgb\n",
        "clf = xgb.XGBClassifier(max_depth=7, n_estimators = 200, colsample_bytree = 0.8, subsample = 0.8, nthread = 10, learning_rate = 0.1)\n",
        "\n",
        "clf.fit(X_train_tf, df_train['category'])\n",
        "\n",
        "predict = clf.predict(X_test_tf)\n",
        "\n",
        "print('Accuracy: %.3f' % accuracy_score(df_test['category'], predict))\n",
        "print('F1_score: %.3f' % f1_score(df_test['category'], predict, average='macro'))"
      ],
      "metadata": {
        "colab": {
          "base_uri": "https://localhost:8080/"
        },
        "id": "c8C4tEyQDyuM",
        "outputId": "06193561-8b1f-44d3-d7b0-28c6f06e9a6f"
      },
      "execution_count": 65,
      "outputs": [
        {
          "output_type": "stream",
          "name": "stdout",
          "text": [
            "Accuracy: 0.870\n",
            "F1_score: 0.566\n"
          ]
        }
      ]
    },
    {
      "cell_type": "markdown",
      "source": [
        "# 2 Features"
      ],
      "metadata": {
        "id": "_2D8m0bXs8Fv"
      }
    },
    {
      "cell_type": "code",
      "source": [
        "#let's add more features for classifier\n",
        "# remember that rows in tfidf matrix sum to 1, so additional features need also to sum to 1, so all features are normalized\n",
        "\n",
        "s = data[['clean', 'category']]\n",
        "s1 = data['urgency']\n",
        "s1 = pd.get_dummies(s1)\n",
        "nam = s1.columns.values.tolist()\n",
        "\n",
        "s1['feature1'] = [x for x in s1[nam].to_numpy()]\n",
        "s1=s1[['feature1']]\n",
        "s3 = pd.concat([s,s1], axis=1)"
      ],
      "metadata": {
        "id": "X7W7szoWMyDr"
      },
      "execution_count": 95,
      "outputs": []
    },
    {
      "cell_type": "code",
      "source": [
        "s3.head()"
      ],
      "metadata": {
        "colab": {
          "base_uri": "https://localhost:8080/",
          "height": 206
        },
        "id": "JPKYSgzcat9B",
        "outputId": "b213df39-a961-43e1-9cb9-c7e102bd44b2"
      },
      "execution_count": 75,
      "outputs": [
        {
          "output_type": "execute_result",
          "data": {
            "text/plain": [
              "                                               clean  category      feature1\n",
              "0  connection icon icon setup icon per icon engin...         6  [0, 0, 0, 1]\n",
              "1  work experience user work experience user work...         5  [0, 0, 0, 1]\n",
              "2  request meet request meeting help follow equip...         5  [0, 0, 0, 1]\n",
              "3  reset password external account expire day ask...         4  [0, 0, 0, 1]\n",
              "4  mail verification warn get attach address best...         4  [0, 0, 0, 1]"
            ],
            "text/html": [
              "\n",
              "  <div id=\"df-4303f961-ba6b-43c5-b1aa-9717fcf4dc2b\">\n",
              "    <div class=\"colab-df-container\">\n",
              "      <div>\n",
              "<style scoped>\n",
              "    .dataframe tbody tr th:only-of-type {\n",
              "        vertical-align: middle;\n",
              "    }\n",
              "\n",
              "    .dataframe tbody tr th {\n",
              "        vertical-align: top;\n",
              "    }\n",
              "\n",
              "    .dataframe thead th {\n",
              "        text-align: right;\n",
              "    }\n",
              "</style>\n",
              "<table border=\"1\" class=\"dataframe\">\n",
              "  <thead>\n",
              "    <tr style=\"text-align: right;\">\n",
              "      <th></th>\n",
              "      <th>clean</th>\n",
              "      <th>category</th>\n",
              "      <th>feature1</th>\n",
              "    </tr>\n",
              "  </thead>\n",
              "  <tbody>\n",
              "    <tr>\n",
              "      <th>0</th>\n",
              "      <td>connection icon icon setup icon per icon engin...</td>\n",
              "      <td>6</td>\n",
              "      <td>[0, 0, 0, 1]</td>\n",
              "    </tr>\n",
              "    <tr>\n",
              "      <th>1</th>\n",
              "      <td>work experience user work experience user work...</td>\n",
              "      <td>5</td>\n",
              "      <td>[0, 0, 0, 1]</td>\n",
              "    </tr>\n",
              "    <tr>\n",
              "      <th>2</th>\n",
              "      <td>request meet request meeting help follow equip...</td>\n",
              "      <td>5</td>\n",
              "      <td>[0, 0, 0, 1]</td>\n",
              "    </tr>\n",
              "    <tr>\n",
              "      <th>3</th>\n",
              "      <td>reset password external account expire day ask...</td>\n",
              "      <td>4</td>\n",
              "      <td>[0, 0, 0, 1]</td>\n",
              "    </tr>\n",
              "    <tr>\n",
              "      <th>4</th>\n",
              "      <td>mail verification warn get attach address best...</td>\n",
              "      <td>4</td>\n",
              "      <td>[0, 0, 0, 1]</td>\n",
              "    </tr>\n",
              "  </tbody>\n",
              "</table>\n",
              "</div>\n",
              "      <button class=\"colab-df-convert\" onclick=\"convertToInteractive('df-4303f961-ba6b-43c5-b1aa-9717fcf4dc2b')\"\n",
              "              title=\"Convert this dataframe to an interactive table.\"\n",
              "              style=\"display:none;\">\n",
              "        \n",
              "  <svg xmlns=\"http://www.w3.org/2000/svg\" height=\"24px\"viewBox=\"0 0 24 24\"\n",
              "       width=\"24px\">\n",
              "    <path d=\"M0 0h24v24H0V0z\" fill=\"none\"/>\n",
              "    <path d=\"M18.56 5.44l.94 2.06.94-2.06 2.06-.94-2.06-.94-.94-2.06-.94 2.06-2.06.94zm-11 1L8.5 8.5l.94-2.06 2.06-.94-2.06-.94L8.5 2.5l-.94 2.06-2.06.94zm10 10l.94 2.06.94-2.06 2.06-.94-2.06-.94-.94-2.06-.94 2.06-2.06.94z\"/><path d=\"M17.41 7.96l-1.37-1.37c-.4-.4-.92-.59-1.43-.59-.52 0-1.04.2-1.43.59L10.3 9.45l-7.72 7.72c-.78.78-.78 2.05 0 2.83L4 21.41c.39.39.9.59 1.41.59.51 0 1.02-.2 1.41-.59l7.78-7.78 2.81-2.81c.8-.78.8-2.07 0-2.86zM5.41 20L4 18.59l7.72-7.72 1.47 1.35L5.41 20z\"/>\n",
              "  </svg>\n",
              "      </button>\n",
              "      \n",
              "  <style>\n",
              "    .colab-df-container {\n",
              "      display:flex;\n",
              "      flex-wrap:wrap;\n",
              "      gap: 12px;\n",
              "    }\n",
              "\n",
              "    .colab-df-convert {\n",
              "      background-color: #E8F0FE;\n",
              "      border: none;\n",
              "      border-radius: 50%;\n",
              "      cursor: pointer;\n",
              "      display: none;\n",
              "      fill: #1967D2;\n",
              "      height: 32px;\n",
              "      padding: 0 0 0 0;\n",
              "      width: 32px;\n",
              "    }\n",
              "\n",
              "    .colab-df-convert:hover {\n",
              "      background-color: #E2EBFA;\n",
              "      box-shadow: 0px 1px 2px rgba(60, 64, 67, 0.3), 0px 1px 3px 1px rgba(60, 64, 67, 0.15);\n",
              "      fill: #174EA6;\n",
              "    }\n",
              "\n",
              "    [theme=dark] .colab-df-convert {\n",
              "      background-color: #3B4455;\n",
              "      fill: #D2E3FC;\n",
              "    }\n",
              "\n",
              "    [theme=dark] .colab-df-convert:hover {\n",
              "      background-color: #434B5C;\n",
              "      box-shadow: 0px 1px 3px 1px rgba(0, 0, 0, 0.15);\n",
              "      filter: drop-shadow(0px 1px 2px rgba(0, 0, 0, 0.3));\n",
              "      fill: #FFFFFF;\n",
              "    }\n",
              "  </style>\n",
              "\n",
              "      <script>\n",
              "        const buttonEl =\n",
              "          document.querySelector('#df-4303f961-ba6b-43c5-b1aa-9717fcf4dc2b button.colab-df-convert');\n",
              "        buttonEl.style.display =\n",
              "          google.colab.kernel.accessAllowed ? 'block' : 'none';\n",
              "\n",
              "        async function convertToInteractive(key) {\n",
              "          const element = document.querySelector('#df-4303f961-ba6b-43c5-b1aa-9717fcf4dc2b');\n",
              "          const dataTable =\n",
              "            await google.colab.kernel.invokeFunction('convertToInteractive',\n",
              "                                                     [key], {});\n",
              "          if (!dataTable) return;\n",
              "\n",
              "          const docLinkHtml = 'Like what you see? Visit the ' +\n",
              "            '<a target=\"_blank\" href=https://colab.research.google.com/notebooks/data_table.ipynb>data table notebook</a>'\n",
              "            + ' to learn more about interactive tables.';\n",
              "          element.innerHTML = '';\n",
              "          dataTable['output_type'] = 'display_data';\n",
              "          await google.colab.output.renderOutput(dataTable, element);\n",
              "          const docLink = document.createElement('div');\n",
              "          docLink.innerHTML = docLinkHtml;\n",
              "          element.appendChild(docLink);\n",
              "        }\n",
              "      </script>\n",
              "    </div>\n",
              "  </div>\n",
              "  "
            ]
          },
          "metadata": {},
          "execution_count": 75
        }
      ]
    },
    {
      "cell_type": "code",
      "source": [
        "X_train, X_test, y_train, y_test = train_test_split(s3[['clean', 'feature1']], s3['category'], test_size = 0.2, shuffle = True, stratify= s3['category'], random_state = 31)"
      ],
      "metadata": {
        "id": "IgbicAHUOdvh"
      },
      "execution_count": 76,
      "outputs": []
    },
    {
      "cell_type": "code",
      "source": [
        "from sklearn.feature_extraction.text import TfidfVectorizer\n",
        "vectorizer = TfidfVectorizer(max_features = 1000, ngram_range = (1,2))\n",
        "\n",
        "X_train_tf = vectorizer.fit_transform(X_train['clean'])\n",
        "X_test_tf = vectorizer.transform(X_test['clean'])"
      ],
      "metadata": {
        "id": "XIvu4UUVO16M"
      },
      "execution_count": 77,
      "outputs": []
    },
    {
      "cell_type": "code",
      "source": [
        "arr = X_train['feature1'].to_list()"
      ],
      "metadata": {
        "id": "hgKdkyxWbQd-"
      },
      "execution_count": 80,
      "outputs": []
    },
    {
      "cell_type": "code",
      "source": [
        "arr = np.stack(arr, axis=0)\n",
        "arr.shape"
      ],
      "metadata": {
        "colab": {
          "base_uri": "https://localhost:8080/"
        },
        "id": "tJCToQzlbWRq",
        "outputId": "8244bd33-077c-4483-d969-276981356b34"
      },
      "execution_count": 81,
      "outputs": [
        {
          "output_type": "execute_result",
          "data": {
            "text/plain": [
              "(36860, 4)"
            ]
          },
          "metadata": {},
          "execution_count": 81
        }
      ]
    },
    {
      "cell_type": "code",
      "source": [
        "arr"
      ],
      "metadata": {
        "colab": {
          "base_uri": "https://localhost:8080/"
        },
        "id": "LmOarjIVblRl",
        "outputId": "23821c2c-74c1-4b11-e47a-9ddf90dfaa2f"
      },
      "execution_count": 82,
      "outputs": [
        {
          "output_type": "execute_result",
          "data": {
            "text/plain": [
              "array([[0, 0, 0, 1],\n",
              "       [0, 0, 0, 1],\n",
              "       [0, 0, 1, 0],\n",
              "       ...,\n",
              "       [0, 0, 0, 1],\n",
              "       [0, 0, 0, 1],\n",
              "       [0, 0, 0, 1]], dtype=uint8)"
            ]
          },
          "metadata": {},
          "execution_count": 82
        }
      ]
    },
    {
      "cell_type": "code",
      "source": [
        "X_train_tf.shape"
      ],
      "metadata": {
        "colab": {
          "base_uri": "https://localhost:8080/"
        },
        "id": "0q8K0M03bmcW",
        "outputId": "2c8f0077-4eb8-43fe-f204-985df52bfc7c"
      },
      "execution_count": 84,
      "outputs": [
        {
          "output_type": "execute_result",
          "data": {
            "text/plain": [
              "(36860, 1000)"
            ]
          },
          "metadata": {},
          "execution_count": 84
        }
      ]
    },
    {
      "cell_type": "code",
      "source": [
        "from scipy.sparse import hstack\n",
        "m = hstack((X_train_tf, arr))\n",
        "m.shape"
      ],
      "metadata": {
        "colab": {
          "base_uri": "https://localhost:8080/"
        },
        "id": "I8BXW3ZSbuot",
        "outputId": "21921508-da61-4e94-f163-e82260fbaadb"
      },
      "execution_count": 86,
      "outputs": [
        {
          "output_type": "execute_result",
          "data": {
            "text/plain": [
              "(36860, 1004)"
            ]
          },
          "metadata": {},
          "execution_count": 86
        }
      ]
    },
    {
      "cell_type": "code",
      "source": [
        "def stacking(data, tfmat):\n",
        "  arr = data.to_list()\n",
        "  return hstack((tfmat, np.stack(arr, axis=0)))"
      ],
      "metadata": {
        "id": "syt7xcRnbEsu"
      },
      "execution_count": 78,
      "outputs": []
    },
    {
      "cell_type": "code",
      "source": [
        "m2 = stacking(X_test['feature1'], X_test_tf)\n",
        "m2.shape"
      ],
      "metadata": {
        "colab": {
          "base_uri": "https://localhost:8080/"
        },
        "id": "eMqJx3dIb88F",
        "outputId": "ff17b8ad-0477-4c19-aad5-57c38d474a64"
      },
      "execution_count": 89,
      "outputs": [
        {
          "output_type": "execute_result",
          "data": {
            "text/plain": [
              "(9215, 1004)"
            ]
          },
          "metadata": {},
          "execution_count": 89
        }
      ]
    },
    {
      "cell_type": "code",
      "source": [
        "import xgboost as xgb\n",
        "clf = xgb.XGBClassifier(max_depth=7, n_estimators = 200, colsample_bytree = 0.8, subsample = 0.8, nthread = 10, learning_rate = 0.1)\n",
        "\n",
        "clf.fit(m, y_train)\n",
        "\n",
        "predict = clf.predict(m2)\n",
        "\n",
        "print('Accuracy: %.3f' % accuracy_score(y_test, predict))\n",
        "print('F1_score: %.3f' % f1_score(y_test, predict, average='macro'))"
      ],
      "metadata": {
        "colab": {
          "base_uri": "https://localhost:8080/"
        },
        "id": "0__mTwCsc9Uu",
        "outputId": "6e6fdb55-873e-415d-c9f1-f567fdf4db09"
      },
      "execution_count": 94,
      "outputs": [
        {
          "output_type": "stream",
          "name": "stdout",
          "text": [
            "Accuracy: 0.872\n",
            "F1_score: 0.552\n"
          ]
        }
      ]
    },
    {
      "cell_type": "markdown",
      "source": [
        "# 3 features"
      ],
      "metadata": {
        "id": "mIE6h3QZtNrr"
      }
    },
    {
      "cell_type": "code",
      "source": [
        "#let's check classfier with 3 features:\n",
        "s = data[['clean', 'category']]\n",
        "s1 = data['urgency']\n",
        "s1 = pd.get_dummies(s1)\n",
        "nam = s1.columns.values.tolist()\n",
        "\n",
        "s1['feature1'] = [x for x in s1[nam].to_numpy()]\n",
        "s1=s1[['feature1']]\n",
        "\n",
        "s2 = data['impact']\n",
        "s2 = pd.get_dummies(s2)\n",
        "nam = s2.columns.values.tolist()\n",
        "\n",
        "s2['feature2'] = [x for x in s2[nam].to_numpy()]\n",
        "s2=s2[['feature2']]\n",
        "s3 = pd.concat([s,s1,s2], axis=1)"
      ],
      "metadata": {
        "id": "p4E6oRnVsT5W"
      },
      "execution_count": 96,
      "outputs": []
    },
    {
      "cell_type": "code",
      "source": [
        "print(s3.shape)\n",
        "s3.head()"
      ],
      "metadata": {
        "colab": {
          "base_uri": "https://localhost:8080/",
          "height": 224
        },
        "id": "Y5HTQdRFy1FI",
        "outputId": "378b789b-563e-428b-c801-165ae0d0040c"
      },
      "execution_count": 98,
      "outputs": [
        {
          "output_type": "stream",
          "name": "stdout",
          "text": [
            "(46075, 4)\n"
          ]
        },
        {
          "output_type": "execute_result",
          "data": {
            "text/plain": [
              "                                               clean  category      feature1  \\\n",
              "0  connection icon icon setup icon per icon engin...         6  [0, 0, 0, 1]   \n",
              "1  work experience user work experience user work...         5  [0, 0, 0, 1]   \n",
              "2  request meet request meeting help follow equip...         5  [0, 0, 0, 1]   \n",
              "3  reset password external account expire day ask...         4  [0, 0, 0, 1]   \n",
              "4  mail verification warn get attach address best...         4  [0, 0, 0, 1]   \n",
              "\n",
              "          feature2  \n",
              "0  [0, 0, 0, 0, 1]  \n",
              "1  [0, 0, 0, 0, 1]  \n",
              "2  [0, 0, 0, 0, 1]  \n",
              "3  [0, 0, 0, 0, 1]  \n",
              "4  [0, 0, 0, 0, 1]  "
            ],
            "text/html": [
              "\n",
              "  <div id=\"df-e78c07ec-0bd9-495f-bb4d-1696a1bca4c3\">\n",
              "    <div class=\"colab-df-container\">\n",
              "      <div>\n",
              "<style scoped>\n",
              "    .dataframe tbody tr th:only-of-type {\n",
              "        vertical-align: middle;\n",
              "    }\n",
              "\n",
              "    .dataframe tbody tr th {\n",
              "        vertical-align: top;\n",
              "    }\n",
              "\n",
              "    .dataframe thead th {\n",
              "        text-align: right;\n",
              "    }\n",
              "</style>\n",
              "<table border=\"1\" class=\"dataframe\">\n",
              "  <thead>\n",
              "    <tr style=\"text-align: right;\">\n",
              "      <th></th>\n",
              "      <th>clean</th>\n",
              "      <th>category</th>\n",
              "      <th>feature1</th>\n",
              "      <th>feature2</th>\n",
              "    </tr>\n",
              "  </thead>\n",
              "  <tbody>\n",
              "    <tr>\n",
              "      <th>0</th>\n",
              "      <td>connection icon icon setup icon per icon engin...</td>\n",
              "      <td>6</td>\n",
              "      <td>[0, 0, 0, 1]</td>\n",
              "      <td>[0, 0, 0, 0, 1]</td>\n",
              "    </tr>\n",
              "    <tr>\n",
              "      <th>1</th>\n",
              "      <td>work experience user work experience user work...</td>\n",
              "      <td>5</td>\n",
              "      <td>[0, 0, 0, 1]</td>\n",
              "      <td>[0, 0, 0, 0, 1]</td>\n",
              "    </tr>\n",
              "    <tr>\n",
              "      <th>2</th>\n",
              "      <td>request meet request meeting help follow equip...</td>\n",
              "      <td>5</td>\n",
              "      <td>[0, 0, 0, 1]</td>\n",
              "      <td>[0, 0, 0, 0, 1]</td>\n",
              "    </tr>\n",
              "    <tr>\n",
              "      <th>3</th>\n",
              "      <td>reset password external account expire day ask...</td>\n",
              "      <td>4</td>\n",
              "      <td>[0, 0, 0, 1]</td>\n",
              "      <td>[0, 0, 0, 0, 1]</td>\n",
              "    </tr>\n",
              "    <tr>\n",
              "      <th>4</th>\n",
              "      <td>mail verification warn get attach address best...</td>\n",
              "      <td>4</td>\n",
              "      <td>[0, 0, 0, 1]</td>\n",
              "      <td>[0, 0, 0, 0, 1]</td>\n",
              "    </tr>\n",
              "  </tbody>\n",
              "</table>\n",
              "</div>\n",
              "      <button class=\"colab-df-convert\" onclick=\"convertToInteractive('df-e78c07ec-0bd9-495f-bb4d-1696a1bca4c3')\"\n",
              "              title=\"Convert this dataframe to an interactive table.\"\n",
              "              style=\"display:none;\">\n",
              "        \n",
              "  <svg xmlns=\"http://www.w3.org/2000/svg\" height=\"24px\"viewBox=\"0 0 24 24\"\n",
              "       width=\"24px\">\n",
              "    <path d=\"M0 0h24v24H0V0z\" fill=\"none\"/>\n",
              "    <path d=\"M18.56 5.44l.94 2.06.94-2.06 2.06-.94-2.06-.94-.94-2.06-.94 2.06-2.06.94zm-11 1L8.5 8.5l.94-2.06 2.06-.94-2.06-.94L8.5 2.5l-.94 2.06-2.06.94zm10 10l.94 2.06.94-2.06 2.06-.94-2.06-.94-.94-2.06-.94 2.06-2.06.94z\"/><path d=\"M17.41 7.96l-1.37-1.37c-.4-.4-.92-.59-1.43-.59-.52 0-1.04.2-1.43.59L10.3 9.45l-7.72 7.72c-.78.78-.78 2.05 0 2.83L4 21.41c.39.39.9.59 1.41.59.51 0 1.02-.2 1.41-.59l7.78-7.78 2.81-2.81c.8-.78.8-2.07 0-2.86zM5.41 20L4 18.59l7.72-7.72 1.47 1.35L5.41 20z\"/>\n",
              "  </svg>\n",
              "      </button>\n",
              "      \n",
              "  <style>\n",
              "    .colab-df-container {\n",
              "      display:flex;\n",
              "      flex-wrap:wrap;\n",
              "      gap: 12px;\n",
              "    }\n",
              "\n",
              "    .colab-df-convert {\n",
              "      background-color: #E8F0FE;\n",
              "      border: none;\n",
              "      border-radius: 50%;\n",
              "      cursor: pointer;\n",
              "      display: none;\n",
              "      fill: #1967D2;\n",
              "      height: 32px;\n",
              "      padding: 0 0 0 0;\n",
              "      width: 32px;\n",
              "    }\n",
              "\n",
              "    .colab-df-convert:hover {\n",
              "      background-color: #E2EBFA;\n",
              "      box-shadow: 0px 1px 2px rgba(60, 64, 67, 0.3), 0px 1px 3px 1px rgba(60, 64, 67, 0.15);\n",
              "      fill: #174EA6;\n",
              "    }\n",
              "\n",
              "    [theme=dark] .colab-df-convert {\n",
              "      background-color: #3B4455;\n",
              "      fill: #D2E3FC;\n",
              "    }\n",
              "\n",
              "    [theme=dark] .colab-df-convert:hover {\n",
              "      background-color: #434B5C;\n",
              "      box-shadow: 0px 1px 3px 1px rgba(0, 0, 0, 0.15);\n",
              "      filter: drop-shadow(0px 1px 2px rgba(0, 0, 0, 0.3));\n",
              "      fill: #FFFFFF;\n",
              "    }\n",
              "  </style>\n",
              "\n",
              "      <script>\n",
              "        const buttonEl =\n",
              "          document.querySelector('#df-e78c07ec-0bd9-495f-bb4d-1696a1bca4c3 button.colab-df-convert');\n",
              "        buttonEl.style.display =\n",
              "          google.colab.kernel.accessAllowed ? 'block' : 'none';\n",
              "\n",
              "        async function convertToInteractive(key) {\n",
              "          const element = document.querySelector('#df-e78c07ec-0bd9-495f-bb4d-1696a1bca4c3');\n",
              "          const dataTable =\n",
              "            await google.colab.kernel.invokeFunction('convertToInteractive',\n",
              "                                                     [key], {});\n",
              "          if (!dataTable) return;\n",
              "\n",
              "          const docLinkHtml = 'Like what you see? Visit the ' +\n",
              "            '<a target=\"_blank\" href=https://colab.research.google.com/notebooks/data_table.ipynb>data table notebook</a>'\n",
              "            + ' to learn more about interactive tables.';\n",
              "          element.innerHTML = '';\n",
              "          dataTable['output_type'] = 'display_data';\n",
              "          await google.colab.output.renderOutput(dataTable, element);\n",
              "          const docLink = document.createElement('div');\n",
              "          docLink.innerHTML = docLinkHtml;\n",
              "          element.appendChild(docLink);\n",
              "        }\n",
              "      </script>\n",
              "    </div>\n",
              "  </div>\n",
              "  "
            ]
          },
          "metadata": {},
          "execution_count": 98
        }
      ]
    },
    {
      "cell_type": "code",
      "source": [
        "X_train, X_test, y_train, y_test = train_test_split(s3[['clean', 'feature1','feature2']], s3['category'], test_size = 0.2, shuffle = True, stratify= s3['category'], random_state = 31)"
      ],
      "metadata": {
        "id": "kNDuGWSnzAGG"
      },
      "execution_count": 99,
      "outputs": []
    },
    {
      "cell_type": "code",
      "source": [
        "from sklearn.feature_extraction.text import TfidfVectorizer\n",
        "vectorizer = TfidfVectorizer(max_features = 1000, ngram_range = (1,2))\n",
        "\n",
        "X_train_tf = vectorizer.fit_transform(X_train['clean'])\n",
        "X_test_tf = vectorizer.transform(X_test['clean'])"
      ],
      "metadata": {
        "id": "p6nsZkYZzGfX"
      },
      "execution_count": 100,
      "outputs": []
    },
    {
      "cell_type": "code",
      "source": [
        "m1 = stacking(X_train['feature1'], X_train_tf)\n",
        "m1.shape"
      ],
      "metadata": {
        "colab": {
          "base_uri": "https://localhost:8080/"
        },
        "id": "yHxq7482zS_9",
        "outputId": "faf944a4-1924-466a-8739-54c4bb5cb97f"
      },
      "execution_count": 102,
      "outputs": [
        {
          "output_type": "execute_result",
          "data": {
            "text/plain": [
              "(36860, 1004)"
            ]
          },
          "metadata": {},
          "execution_count": 102
        }
      ]
    },
    {
      "cell_type": "code",
      "source": [
        "m1 = stacking(X_train['feature2'],m1)\n",
        "m1.shape"
      ],
      "metadata": {
        "colab": {
          "base_uri": "https://localhost:8080/"
        },
        "id": "DhqJkm0rzbRm",
        "outputId": "a311a157-f951-4bab-babb-3839e794da46"
      },
      "execution_count": 103,
      "outputs": [
        {
          "output_type": "execute_result",
          "data": {
            "text/plain": [
              "(36860, 1009)"
            ]
          },
          "metadata": {},
          "execution_count": 103
        }
      ]
    },
    {
      "cell_type": "code",
      "source": [
        "m2 = stacking(X_test['feature1'], X_test_tf)\n",
        "m2.shape"
      ],
      "metadata": {
        "colab": {
          "base_uri": "https://localhost:8080/"
        },
        "id": "CEWaWv7czQgO",
        "outputId": "085866e4-eee3-4d73-c748-cdf4023a1cd4"
      },
      "execution_count": 104,
      "outputs": [
        {
          "output_type": "execute_result",
          "data": {
            "text/plain": [
              "(9215, 1004)"
            ]
          },
          "metadata": {},
          "execution_count": 104
        }
      ]
    },
    {
      "cell_type": "code",
      "source": [
        "m2 = stacking(X_test['feature2'], m2)\n",
        "m2.shape"
      ],
      "metadata": {
        "colab": {
          "base_uri": "https://localhost:8080/"
        },
        "id": "PFC4vVa6zh6e",
        "outputId": "22d62579-f9bb-4903-941b-6c3bd08d76b9"
      },
      "execution_count": 105,
      "outputs": [
        {
          "output_type": "execute_result",
          "data": {
            "text/plain": [
              "(9215, 1009)"
            ]
          },
          "metadata": {},
          "execution_count": 105
        }
      ]
    },
    {
      "cell_type": "code",
      "source": [
        "import xgboost as xgb\n",
        "clf = xgb.XGBClassifier(max_depth=7, n_estimators = 200, colsample_bytree = 0.8, subsample = 0.8, nthread = 10, learning_rate = 0.1)\n",
        "\n",
        "clf.fit(m1, y_train)\n",
        "\n",
        "predict = clf.predict(m2)\n",
        "\n",
        "print('Accuracy: %.3f' % accuracy_score(y_test, predict))\n",
        "print('F1_score: %.3f' % f1_score(y_test, predict, average='macro'))"
      ],
      "metadata": {
        "colab": {
          "base_uri": "https://localhost:8080/"
        },
        "id": "YbuLP_vhzmL6",
        "outputId": "40a1abd2-47d6-4d43-b773-1a39cb1f457e"
      },
      "execution_count": 107,
      "outputs": [
        {
          "output_type": "stream",
          "name": "stdout",
          "text": [
            "Accuracy: 0.873\n",
            "F1_score: 0.569\n"
          ]
        }
      ]
    },
    {
      "cell_type": "code",
      "source": [
        "from sklearn.feature_extraction.text import TfidfVectorizer\n",
        "vectorizer = TfidfVectorizer(max_features = 2000, ngram_range = (1,2))\n",
        "\n",
        "X_train_tf = vectorizer.fit_transform(X_train['clean'])\n",
        "X_test_tf = vectorizer.transform(X_test['clean'])\n",
        "m1 = stacking(X_train['feature1'], X_train_tf)\n",
        "m1 = stacking(X_train['feature2'],m1)\n",
        "m2 = stacking(X_test['feature1'], X_test_tf)\n",
        "m2 = stacking(X_test['feature2'], m2)\n",
        "\n",
        "clf = xgb.XGBClassifier(max_depth=7, n_estimators = 200, colsample_bytree = 0.8, subsample = 0.8, nthread = 10, learning_rate = 0.1)\n",
        "\n",
        "clf.fit(m1, y_train)\n",
        "\n",
        "predict = clf.predict(m2)\n",
        "\n",
        "print('Accuracy: %.3f' % accuracy_score(y_test, predict))\n",
        "print('F1_score: %.3f' % f1_score(y_test, predict, average='macro'))"
      ],
      "metadata": {
        "colab": {
          "base_uri": "https://localhost:8080/"
        },
        "id": "VP3YXjGs38OC",
        "outputId": "648d60d7-4d26-4e96-82ca-663a92c87c59"
      },
      "execution_count": 108,
      "outputs": [
        {
          "output_type": "stream",
          "name": "stdout",
          "text": [
            "Accuracy: 0.875\n",
            "F1_score: 0.602\n"
          ]
        }
      ]
    }
  ]
}